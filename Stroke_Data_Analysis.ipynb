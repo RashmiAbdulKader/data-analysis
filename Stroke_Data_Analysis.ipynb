{
 "cells": [
  {
   "cell_type": "markdown",
   "metadata": {},
   "source": [
    "# Analysis of Stroke Data"
   ]
  },
  {
   "cell_type": "markdown",
   "metadata": {},
   "source": [
    "Importing packages"
   ]
  },
  {
   "cell_type": "code",
   "execution_count": 434,
   "metadata": {},
   "outputs": [],
   "source": [
    "import numpy as np\n",
    "import matplotlib as mpl\n",
    "import matplotlib.pyplot as plt \n",
    "%matplotlib inline\n",
    "import seaborn as sns\n",
    "import pandas as pd\n",
    "import statsmodels.api as sm\n",
    "sns.set_style(\"darkgrid\")\n",
    "mpl.rcParams['figure.figsize'] = (20,5)\n"
   ]
  },
  {
   "cell_type": "markdown",
   "metadata": {},
   "source": [
    "# Reading the data into pandas dataframe and understanding the data"
   ]
  },
  {
   "cell_type": "code",
   "execution_count": 435,
   "metadata": {},
   "outputs": [],
   "source": [
    "dataframe_stroke_raw= pd.read_csv('stroke_data.csv')\n"
   ]
  },
  {
   "cell_type": "code",
   "execution_count": 436,
   "metadata": {},
   "outputs": [
    {
     "name": "stdout",
     "output_type": "stream",
     "text": [
      "(5110, 12)\n"
     ]
    }
   ],
   "source": [
    "print(dataframe_stroke_raw.shape)"
   ]
  },
  {
   "cell_type": "code",
   "execution_count": 437,
   "metadata": {},
   "outputs": [
    {
     "name": "stdout",
     "output_type": "stream",
     "text": [
      "<class 'pandas.core.frame.DataFrame'>\n",
      "RangeIndex: 5110 entries, 0 to 5109\n",
      "Data columns (total 12 columns):\n",
      " #   Column             Non-Null Count  Dtype  \n",
      "---  ------             --------------  -----  \n",
      " 0   id                 5110 non-null   int64  \n",
      " 1   gender             5110 non-null   object \n",
      " 2   age                5110 non-null   float64\n",
      " 3   hypertension       5110 non-null   int64  \n",
      " 4   heart_disease      5110 non-null   int64  \n",
      " 5   ever_married       5110 non-null   object \n",
      " 6   work_type          5110 non-null   object \n",
      " 7   Residence_type     5110 non-null   object \n",
      " 8   avg_glucose_level  5110 non-null   float64\n",
      " 9   bmi                4909 non-null   float64\n",
      " 10  smoking_status     5110 non-null   object \n",
      " 11  stroke             5110 non-null   int64  \n",
      "dtypes: float64(3), int64(4), object(5)\n",
      "memory usage: 479.2+ KB\n",
      "None\n"
     ]
    }
   ],
   "source": [
    "print(dataframe_stroke_raw.info())\n"
   ]
  },
  {
   "cell_type": "code",
   "execution_count": 438,
   "metadata": {},
   "outputs": [
    {
     "name": "stdout",
     "output_type": "stream",
     "text": [
      "      id  gender   age  hypertension  heart_disease ever_married  \\\n",
      "0   9046    Male  67.0             0              1          Yes   \n",
      "1  51676  Female  61.0             0              0          Yes   \n",
      "2  31112    Male  80.0             0              1          Yes   \n",
      "3  60182  Female  49.0             0              0          Yes   \n",
      "4   1665  Female  79.0             1              0          Yes   \n",
      "\n",
      "       work_type Residence_type  avg_glucose_level   bmi   smoking_status  \\\n",
      "0        Private          Urban             228.69  36.6  formerly smoked   \n",
      "1  Self-employed          Rural             202.21   NaN     never smoked   \n",
      "2        Private          Rural             105.92  32.5     never smoked   \n",
      "3        Private          Urban             171.23  34.4           smokes   \n",
      "4  Self-employed          Rural             174.12  24.0     never smoked   \n",
      "\n",
      "   stroke  \n",
      "0       1  \n",
      "1       1  \n",
      "2       1  \n",
      "3       1  \n",
      "4       1  \n"
     ]
    }
   ],
   "source": [
    "print(dataframe_stroke_raw.head())"
   ]
  },
  {
   "cell_type": "markdown",
   "metadata": {},
   "source": [
    "There are 5110 rows and a total of 12 columns including id and stroke. So there are a total of 10 candidate independant variables and one dependant variable which is the occurrence of stroke. Out of the 10 independant variables, age, avg glucose level and bmi are numerical variables and others are categorical variables."
   ]
  },
  {
   "cell_type": "code",
   "execution_count": 439,
   "metadata": {},
   "outputs": [
    {
     "name": "stdout",
     "output_type": "stream",
     "text": [
      "gender ['Male' 'Female' 'Other']\n",
      "hypertension [0 1]\n",
      "heart_disease [1 0]\n",
      "ever_married ['Yes' 'No']\n",
      "work_type ['Private' 'Self-employed' 'Govt_job' 'children' 'Never_worked']\n",
      "Residence_type ['Urban' 'Rural']\n",
      "smoking_status ['formerly smoked' 'never smoked' 'smokes' 'Unknown']\n",
      "stroke [1 0]\n"
     ]
    }
   ],
   "source": [
    "Listofitems=['gender','hypertension','heart_disease','ever_married','work_type','Residence_type','smoking_status','stroke']\n",
    "for item in Listofitems:\n",
    "        print(f\"{item}\" ,(dataframe_stroke_raw[item].unique()))"
   ]
  },
  {
   "cell_type": "markdown",
   "metadata": {},
   "source": [
    "The details of the categorical variables are obtained above. There are 3 categories in gender (Male, Female, Other), 2 each in hypertension and heart disease(0 and 1), 2 in ever marries(Yes and No), 5 in work type(Private, Self Employed, Govt job, children,and Never worked),2 categories in Residence type(Urban and Rural) and 4 in smoking status(formerly smoked, never smoked, smokes and unknown)"
   ]
  },
  {
   "cell_type": "code",
   "execution_count": 440,
   "metadata": {},
   "outputs": [
    {
     "name": "stdout",
     "output_type": "stream",
     "text": [
      "id                   5110\n",
      "gender               5110\n",
      "age                  5110\n",
      "hypertension         5110\n",
      "heart_disease        5110\n",
      "ever_married         5110\n",
      "work_type            5110\n",
      "Residence_type       5110\n",
      "avg_glucose_level    5110\n",
      "bmi                  4909\n",
      "smoking_status       5110\n",
      "stroke               5110\n",
      "dtype: int64\n"
     ]
    }
   ],
   "source": [
    "data_count=dataframe_stroke_raw.count()\n",
    "print(data_count)"
   ]
  },
  {
   "cell_type": "code",
   "execution_count": 441,
   "metadata": {},
   "outputs": [
    {
     "name": "stdout",
     "output_type": "stream",
     "text": [
      "id                   0.000000\n",
      "gender               0.000000\n",
      "age                  0.000000\n",
      "hypertension         0.000000\n",
      "heart_disease        0.000000\n",
      "ever_married         0.000000\n",
      "work_type            0.000000\n",
      "Residence_type       0.000000\n",
      "avg_glucose_level    0.000000\n",
      "bmi                  3.933464\n",
      "smoking_status       0.000000\n",
      "stroke               0.000000\n",
      "dtype: float64\n"
     ]
    }
   ],
   "source": [
    "missing_percentage=(1-(data_count/5110))*100\n",
    "print(missing_percentage)"
   ]
  },
  {
   "cell_type": "markdown",
   "metadata": {},
   "source": [
    "There are a 3.93% of missing values in bmi column."
   ]
  },
  {
   "cell_type": "code",
   "execution_count": 442,
   "metadata": {},
   "outputs": [
    {
     "name": "stdout",
     "output_type": "stream",
     "text": [
      "                 id          age  hypertension  heart_disease  \\\n",
      "count   5110.000000  5110.000000   5110.000000    5110.000000   \n",
      "mean   36517.829354    43.226614      0.097456       0.054012   \n",
      "std    21161.721625    22.612647      0.296607       0.226063   \n",
      "min       67.000000     0.080000      0.000000       0.000000   \n",
      "25%    17741.250000    25.000000      0.000000       0.000000   \n",
      "50%    36932.000000    45.000000      0.000000       0.000000   \n",
      "75%    54682.000000    61.000000      0.000000       0.000000   \n",
      "max    72940.000000    82.000000      1.000000       1.000000   \n",
      "\n",
      "       avg_glucose_level          bmi       stroke  \n",
      "count        5110.000000  4909.000000  5110.000000  \n",
      "mean          106.147677    28.893237     0.048728  \n",
      "std            45.283560     7.854067     0.215320  \n",
      "min            55.120000    10.300000     0.000000  \n",
      "25%            77.245000    23.500000     0.000000  \n",
      "50%            91.885000    28.100000     0.000000  \n",
      "75%           114.090000    33.100000     0.000000  \n",
      "max           271.740000    97.600000     1.000000  \n"
     ]
    }
   ],
   "source": [
    "print(dataframe_stroke_raw.describe())"
   ]
  },
  {
   "cell_type": "code",
   "execution_count": 443,
   "metadata": {},
   "outputs": [
    {
     "name": "stdout",
     "output_type": "stream",
     "text": [
      "               age  hypertension  heart_disease  avg_glucose_level  \\\n",
      "count  4909.000000   4909.000000    4909.000000        4909.000000   \n",
      "mean     42.865374      0.091872       0.049501         105.305150   \n",
      "std      22.555115      0.288875       0.216934          44.424341   \n",
      "min       0.080000      0.000000       0.000000          55.120000   \n",
      "25%      25.000000      0.000000       0.000000          77.070000   \n",
      "50%      44.000000      0.000000       0.000000          91.680000   \n",
      "75%      60.000000      0.000000       0.000000         113.570000   \n",
      "max      82.000000      1.000000       1.000000         271.740000   \n",
      "\n",
      "               bmi       stroke  \n",
      "count  4909.000000  4909.000000  \n",
      "mean     28.893237     0.042575  \n",
      "std       7.854067     0.201917  \n",
      "min      10.300000     0.000000  \n",
      "25%      23.500000     0.000000  \n",
      "50%      28.100000     0.000000  \n",
      "75%      33.100000     0.000000  \n",
      "max      97.600000     1.000000  \n"
     ]
    }
   ],
   "source": [
    "print(dataframe_stroke.describe())"
   ]
  },
  {
   "cell_type": "markdown",
   "metadata": {},
   "source": [
    "The dataset includes people with mean age of 43.22 years with a standard deviation of 22.612, mean glucose level of 106.14 with a standard deviation of 45.28, and mean bmi of 28.89 and standard deviation of 7.854"
   ]
  },
  {
   "cell_type": "code",
   "execution_count": 444,
   "metadata": {},
   "outputs": [],
   "source": [
    "ListofCategories=['gender', 'hypertension', 'heart_disease', 'ever_married',\n",
    "       'work_type', 'Residence_type', \n",
    "       'smoking_status']"
   ]
  },
  {
   "cell_type": "markdown",
   "metadata": {},
   "source": [
    "### Distribution of different categories in the dataset"
   ]
  },
  {
   "cell_type": "code",
   "execution_count": 445,
   "metadata": {},
   "outputs": [
    {
     "data": {
      "image/png": "[encoded data removed]",
      "text/plain": [
       "<Figure size 1440x360 with 1 Axes>"
      ]
     },
     "metadata": {},
     "output_type": "display_data"
    },
    {
     "data": {
      "image/png": "[encoded data removed]",
      "text/plain": [
       "<Figure size 1440x360 with 1 Axes>"
      ]
     },
     "metadata": {},
     "output_type": "display_data"
    },
    {
     "data": {
      "image/png": "[encoded data removed]",
      "text/plain": [
       "<Figure size 1440x360 with 1 Axes>"
      ]
     },
     "metadata": {},
     "output_type": "display_data"
    },
    {
     "data": {
      "image/png": "[encoded data removed]",
      "text/plain": [
       "<Figure size 1440x360 with 1 Axes>"
      ]
     },
     "metadata": {},
     "output_type": "display_data"
    },
    {
     "data": {
      "image/png": "[encoded data removed]",
      "text/plain": [
       "<Figure size 1440x360 with 1 Axes>"
      ]
     },
     "metadata": {},
     "output_type": "display_data"
    },
    {
     "data": {
      "image/png": "[encoded data removed]",
      "text/plain": [
       "<Figure size 1440x360 with 1 Axes>"
      ]
     },
     "metadata": {},
     "output_type": "display_data"
    },
    {
     "data": {
      "image/png": "[encoded data removed]",
      "text/plain": [
       "<Figure size 1440x360 with 1 Axes>"
      ]
     },
     "metadata": {},
     "output_type": "display_data"
    }
   ],
   "source": [
    "for item in ListofCategories:\n",
    "    ((dataframe_stroke_raw[item]).value_counts()).plot(kind='bar',width=0.1)\n",
    "    plt.title(item)\n",
    "    plt.show()"
   ]
  },
  {
   "cell_type": "markdown",
   "metadata": {},
   "source": [
    "From the above plot, it can be seen that different categorical values are not equally distributed in the dataset.\n",
    "There are more people without heart disease than with heart disease.\n",
    "Also, there are more people without hypertension than people with hypertension.\n",
    "There are more number of people working in private jobs and more number of people who have never smoked.\n"
   ]
  },
  {
   "cell_type": "markdown",
   "metadata": {},
   "source": [
    "# Data Cleansing"
   ]
  },
  {
   "cell_type": "code",
   "execution_count": 446,
   "metadata": {},
   "outputs": [],
   "source": [
    "\n",
    "dataframe_stroke=dataframe_stroke_raw.drop(columns=['id'])\n",
    "dataframe_stroke=dataframe_stroke.dropna()"
   ]
  },
  {
   "cell_type": "code",
   "execution_count": 447,
   "metadata": {},
   "outputs": [
    {
     "data": {
      "text/html": [
       "<div>\n",
       "<style scoped>\n",
       "    .dataframe tbody tr th:only-of-type {\n",
       "        vertical-align: middle;\n",
       "    }\n",
       "\n",
       "    .dataframe tbody tr th {\n",
       "        vertical-align: top;\n",
       "    }\n",
       "\n",
       "    .dataframe thead th {\n",
       "        text-align: right;\n",
       "    }\n",
       "</style>\n",
       "<table border=\"1\" class=\"dataframe\">\n",
       "  <thead>\n",
       "    <tr style=\"text-align: right;\">\n",
       "      <th></th>\n",
       "      <th>age</th>\n",
       "      <th>hypertension</th>\n",
       "      <th>heart_disease</th>\n",
       "      <th>avg_glucose_level</th>\n",
       "      <th>bmi</th>\n",
       "      <th>stroke</th>\n",
       "    </tr>\n",
       "  </thead>\n",
       "  <tbody>\n",
       "    <tr>\n",
       "      <th>count</th>\n",
       "      <td>4909.000000</td>\n",
       "      <td>4909.000000</td>\n",
       "      <td>4909.000000</td>\n",
       "      <td>4909.000000</td>\n",
       "      <td>4909.000000</td>\n",
       "      <td>4909.000000</td>\n",
       "    </tr>\n",
       "    <tr>\n",
       "      <th>mean</th>\n",
       "      <td>42.865374</td>\n",
       "      <td>0.091872</td>\n",
       "      <td>0.049501</td>\n",
       "      <td>105.305150</td>\n",
       "      <td>28.893237</td>\n",
       "      <td>0.042575</td>\n",
       "    </tr>\n",
       "    <tr>\n",
       "      <th>std</th>\n",
       "      <td>22.555115</td>\n",
       "      <td>0.288875</td>\n",
       "      <td>0.216934</td>\n",
       "      <td>44.424341</td>\n",
       "      <td>7.854067</td>\n",
       "      <td>0.201917</td>\n",
       "    </tr>\n",
       "    <tr>\n",
       "      <th>min</th>\n",
       "      <td>0.080000</td>\n",
       "      <td>0.000000</td>\n",
       "      <td>0.000000</td>\n",
       "      <td>55.120000</td>\n",
       "      <td>10.300000</td>\n",
       "      <td>0.000000</td>\n",
       "    </tr>\n",
       "    <tr>\n",
       "      <th>25%</th>\n",
       "      <td>25.000000</td>\n",
       "      <td>0.000000</td>\n",
       "      <td>0.000000</td>\n",
       "      <td>77.070000</td>\n",
       "      <td>23.500000</td>\n",
       "      <td>0.000000</td>\n",
       "    </tr>\n",
       "    <tr>\n",
       "      <th>50%</th>\n",
       "      <td>44.000000</td>\n",
       "      <td>0.000000</td>\n",
       "      <td>0.000000</td>\n",
       "      <td>91.680000</td>\n",
       "      <td>28.100000</td>\n",
       "      <td>0.000000</td>\n",
       "    </tr>\n",
       "    <tr>\n",
       "      <th>75%</th>\n",
       "      <td>60.000000</td>\n",
       "      <td>0.000000</td>\n",
       "      <td>0.000000</td>\n",
       "      <td>113.570000</td>\n",
       "      <td>33.100000</td>\n",
       "      <td>0.000000</td>\n",
       "    </tr>\n",
       "    <tr>\n",
       "      <th>max</th>\n",
       "      <td>82.000000</td>\n",
       "      <td>1.000000</td>\n",
       "      <td>1.000000</td>\n",
       "      <td>271.740000</td>\n",
       "      <td>97.600000</td>\n",
       "      <td>1.000000</td>\n",
       "    </tr>\n",
       "  </tbody>\n",
       "</table>\n",
       "</div>"
      ],
      "text/plain": [
       "               age  hypertension  heart_disease  avg_glucose_level  \\\n",
       "count  4909.000000   4909.000000    4909.000000        4909.000000   \n",
       "mean     42.865374      0.091872       0.049501         105.305150   \n",
       "std      22.555115      0.288875       0.216934          44.424341   \n",
       "min       0.080000      0.000000       0.000000          55.120000   \n",
       "25%      25.000000      0.000000       0.000000          77.070000   \n",
       "50%      44.000000      0.000000       0.000000          91.680000   \n",
       "75%      60.000000      0.000000       0.000000         113.570000   \n",
       "max      82.000000      1.000000       1.000000         271.740000   \n",
       "\n",
       "               bmi       stroke  \n",
       "count  4909.000000  4909.000000  \n",
       "mean     28.893237     0.042575  \n",
       "std       7.854067     0.201917  \n",
       "min      10.300000     0.000000  \n",
       "25%      23.500000     0.000000  \n",
       "50%      28.100000     0.000000  \n",
       "75%      33.100000     0.000000  \n",
       "max      97.600000     1.000000  "
      ]
     },
     "execution_count": 447,
     "metadata": {},
     "output_type": "execute_result"
    }
   ],
   "source": [
    "dataframe_stroke.describe()"
   ]
  },
  {
   "cell_type": "code",
   "execution_count": 448,
   "metadata": {},
   "outputs": [
    {
     "name": "stdout",
     "output_type": "stream",
     "text": [
      "<class 'pandas.core.frame.DataFrame'>\n",
      "Int64Index: 4909 entries, 0 to 5109\n",
      "Data columns (total 11 columns):\n",
      " #   Column             Non-Null Count  Dtype  \n",
      "---  ------             --------------  -----  \n",
      " 0   gender             4909 non-null   object \n",
      " 1   age                4909 non-null   float64\n",
      " 2   hypertension       4909 non-null   int64  \n",
      " 3   heart_disease      4909 non-null   int64  \n",
      " 4   ever_married       4909 non-null   object \n",
      " 5   work_type          4909 non-null   object \n",
      " 6   Residence_type     4909 non-null   object \n",
      " 7   avg_glucose_level  4909 non-null   float64\n",
      " 8   bmi                4909 non-null   float64\n",
      " 9   smoking_status     4909 non-null   object \n",
      " 10  stroke             4909 non-null   int64  \n",
      "dtypes: float64(3), int64(3), object(5)\n",
      "memory usage: 460.2+ KB\n"
     ]
    }
   ],
   "source": [
    "dataframe_stroke.info()"
   ]
  },
  {
   "cell_type": "code",
   "execution_count": 449,
   "metadata": {},
   "outputs": [
    {
     "data": {
      "text/plain": [
       "(4909, 11)"
      ]
     },
     "execution_count": 449,
     "metadata": {},
     "output_type": "execute_result"
    }
   ],
   "source": [
    "dataframe_stroke.shape"
   ]
  },
  {
   "cell_type": "markdown",
   "metadata": {},
   "source": [
    "# Insights"
   ]
  },
  {
   "cell_type": "code",
   "execution_count": 450,
   "metadata": {},
   "outputs": [],
   "source": [
    "ListofBins=['age','bmi','avg_glucose_level']"
   ]
  },
  {
   "cell_type": "code",
   "execution_count": 451,
   "metadata": {
    "scrolled": true
   },
   "outputs": [
    {
     "data": {
      "image/png": "[encoded data removed]",
      "text/plain": [
       "<Figure size 1152x360 with 3 Axes>"
      ]
     },
     "metadata": {},
     "output_type": "display_data"
    }
   ],
   "source": [
    "fig, axs = plt.subplots(1, 3, figsize=(16,5))\n",
    "for i, item in enumerate(ListofBins):\n",
    "    sns.boxplot(x=\"stroke\", y=item, data=dataframe_stroke, ax=axs[i])\n",
    "    axs[i].set_xlabel(\"Stroke\")\n",
    "    axs[i].set_ylabel(f\"{item}\")"
   ]
  },
  {
   "cell_type": "markdown",
   "metadata": {},
   "source": [
    "### From the above box plots, there is a higher chance of stroke with increase in age and increase in avg glucose level"
   ]
  },
  {
   "cell_type": "code",
   "execution_count": 452,
   "metadata": {},
   "outputs": [
    {
     "data": {
      "image/png": "[encoded data removed]",
      "text/plain": [
       "<Figure size 1440x360 with 1 Axes>"
      ]
     },
     "metadata": {},
     "output_type": "display_data"
    }
   ],
   "source": [
    "dataframe_stroke.plot(kind='box')\n",
    "plt.title('Stroke Data Box Plot')\n",
    "plt.show()"
   ]
  },
  {
   "cell_type": "code",
   "execution_count": 453,
   "metadata": {},
   "outputs": [
    {
     "data": {
      "image/png": "[encoded data removed]",
      "text/plain": [
       "<Figure size 1440x360 with 1 Axes>"
      ]
     },
     "metadata": {},
     "output_type": "display_data"
    },
    {
     "data": {
      "image/png": "[encoded data removed]",
      "text/plain": [
       "<Figure size 1440x360 with 1 Axes>"
      ]
     },
     "metadata": {},
     "output_type": "display_data"
    }
   ],
   "source": [
    "stroke=dataframe_stroke['stroke']==1\n",
    "no_stroke=dataframe_stroke['stroke']==0\n",
    "df_stroke=dataframe_stroke[stroke]\n",
    "df_no_stroke=dataframe_stroke[no_stroke]\n",
    "df_stroke.plot(kind='box')\n",
    "plt.title('Stroke Event')\n",
    "plt.show()\n",
    "df_no_stroke.plot(kind='box')\n",
    "plt.title('No Stroke Event')\n",
    "plt.show()"
   ]
  },
  {
   "cell_type": "code",
   "execution_count": 454,
   "metadata": {},
   "outputs": [
    {
     "name": "stdout",
     "output_type": "stream",
     "text": [
      "              age  hypertension  heart_disease  avg_glucose_level         bmi  \\\n",
      "count  209.000000    209.000000     209.000000         209.000000  209.000000   \n",
      "mean    67.712919      0.287081       0.191388         134.571388   30.471292   \n",
      "std     12.402848      0.453486       0.394338          62.462047    6.329452   \n",
      "min     14.000000      0.000000       0.000000          56.110000   16.900000   \n",
      "25%     58.000000      0.000000       0.000000          80.430000   26.400000   \n",
      "50%     70.000000      0.000000       0.000000         106.580000   29.700000   \n",
      "75%     78.000000      1.000000       0.000000         196.920000   33.700000   \n",
      "max     82.000000      1.000000       1.000000         271.740000   56.600000   \n",
      "\n",
      "       stroke  \n",
      "count   209.0  \n",
      "mean      1.0  \n",
      "std       0.0  \n",
      "min       1.0  \n",
      "25%       1.0  \n",
      "50%       1.0  \n",
      "75%       1.0  \n",
      "max       1.0  \n"
     ]
    }
   ],
   "source": [
    "print(df_stroke.describe())"
   ]
  },
  {
   "cell_type": "code",
   "execution_count": 455,
   "metadata": {},
   "outputs": [
    {
     "name": "stdout",
     "output_type": "stream",
     "text": [
      "               age  hypertension  heart_disease  avg_glucose_level  \\\n",
      "count  4700.000000   4700.000000    4700.000000        4700.000000   \n",
      "mean     41.760451      0.083191       0.043191         104.003736   \n",
      "std      22.268129      0.276201       0.203310          42.997798   \n",
      "min       0.080000      0.000000       0.000000          55.120000   \n",
      "25%      24.000000      0.000000       0.000000          76.887500   \n",
      "50%      43.000000      0.000000       0.000000          91.210000   \n",
      "75%      59.000000      0.000000       0.000000         112.432500   \n",
      "max      82.000000      1.000000       1.000000         267.760000   \n",
      "\n",
      "               bmi  stroke  \n",
      "count  4700.000000  4700.0  \n",
      "mean     28.823064     0.0  \n",
      "std       7.908287     0.0  \n",
      "min      10.300000     0.0  \n",
      "25%      23.400000     0.0  \n",
      "50%      28.000000     0.0  \n",
      "75%      33.100000     0.0  \n",
      "max      97.600000     0.0  \n"
     ]
    }
   ],
   "source": [
    "print(df_no_stroke.describe())"
   ]
  },
  {
   "cell_type": "markdown",
   "metadata": {},
   "source": [
    "## Since, the data set contains uneven distribution of different categories of variables, it won't give a the correct picture if the number of stroke events corresponding to each categories are considered. So, the stroke events are calculated as the percentage of total number of each category in the dataset."
   ]
  },
  {
   "cell_type": "code",
   "execution_count": 456,
   "metadata": {},
   "outputs": [],
   "source": [
    "ListofCategories=['gender', 'hypertension', 'heart_disease', 'ever_married',\n",
    "       'work_type', 'Residence_type', \n",
    "       'smoking_status']"
   ]
  },
  {
   "cell_type": "code",
   "execution_count": 457,
   "metadata": {},
   "outputs": [
    {
     "name": "stdout",
     "output_type": "stream",
     "text": [
      "Female    2897\n",
      "Male      2011\n",
      "Other        1\n",
      "Name: gender, dtype: int64\n",
      "Female    120\n",
      "Male       89\n",
      "Name: gender, dtype: int64\n",
      "0    4458\n",
      "1     451\n",
      "Name: hypertension, dtype: int64\n",
      "0    149\n",
      "1     60\n",
      "Name: hypertension, dtype: int64\n",
      "0    4666\n",
      "1     243\n",
      "Name: heart_disease, dtype: int64\n",
      "0    169\n",
      "1     40\n",
      "Name: heart_disease, dtype: int64\n",
      "Yes    3204\n",
      "No     1705\n",
      "Name: ever_married, dtype: int64\n",
      "Yes    186\n",
      "No      23\n",
      "Name: ever_married, dtype: int64\n",
      "Private          2811\n",
      "Self-employed     775\n",
      "children          671\n",
      "Govt_job          630\n",
      "Never_worked       22\n",
      "Name: work_type, dtype: int64\n",
      "Private          127\n",
      "Self-employed     53\n",
      "Govt_job          28\n",
      "children           1\n",
      "Name: work_type, dtype: int64\n",
      "Urban    2490\n",
      "Rural    2419\n",
      "Name: Residence_type, dtype: int64\n",
      "Urban    109\n",
      "Rural    100\n",
      "Name: Residence_type, dtype: int64\n",
      "never smoked       1852\n",
      "Unknown            1483\n",
      "formerly smoked     837\n",
      "smokes              737\n",
      "Name: smoking_status, dtype: int64\n",
      "never smoked       84\n",
      "formerly smoked    57\n",
      "smokes             39\n",
      "Unknown            29\n",
      "Name: smoking_status, dtype: int64\n"
     ]
    }
   ],
   "source": [
    "for item in ListofCategories:\n",
    "    print((dataframe_stroke[item]).value_counts())\n",
    "    print((df_stroke[item]).value_counts())"
   ]
  },
  {
   "cell_type": "code",
   "execution_count": 458,
   "metadata": {},
   "outputs": [
    {
     "name": "stdout",
     "output_type": "stream",
     "text": [
      "Female    4.142216\n",
      "Male      4.425659\n",
      "Other          NaN\n",
      "Name: gender, dtype: float64\n",
      "0     3.342306\n",
      "1    13.303769\n",
      "Name: hypertension, dtype: float64\n",
      "0     3.621946\n",
      "1    16.460905\n",
      "Name: heart_disease, dtype: float64\n",
      "Yes    5.805243\n",
      "No     1.348974\n",
      "Name: ever_married, dtype: float64\n",
      "Govt_job         4.444444\n",
      "Never_worked          NaN\n",
      "Private          4.517965\n",
      "Self-employed    6.838710\n",
      "children         0.149031\n",
      "Name: work_type, dtype: float64\n",
      "Urban    4.37751\n",
      "Rural    4.13394\n",
      "Name: Residence_type, dtype: float64\n",
      "Unknown            1.955496\n",
      "formerly smoked    6.810036\n",
      "never smoked       4.535637\n",
      "smokes             5.291723\n",
      "Name: smoking_status, dtype: float64\n"
     ]
    }
   ],
   "source": [
    "for item in ListofCategories:\n",
    "   print(((df_stroke[item]).value_counts())/((dataframe_stroke[item]).value_counts())*100)"
   ]
  },
  {
   "cell_type": "code",
   "execution_count": 459,
   "metadata": {},
   "outputs": [
    {
     "data": {
      "image/png": "[encoded data removed]",
      "text/plain": [
       "<Figure size 1440x360 with 1 Axes>"
      ]
     },
     "metadata": {},
     "output_type": "display_data"
    },
    {
     "data": {
      "image/png": "[encoded data removed]",
      "text/plain": [
       "<Figure size 1440x360 with 1 Axes>"
      ]
     },
     "metadata": {},
     "output_type": "display_data"
    },
    {
     "data": {
      "image/png": "[encoded data removed]",
      "text/plain": [
       "<Figure size 1440x360 with 1 Axes>"
      ]
     },
     "metadata": {},
     "output_type": "display_data"
    },
    {
     "data": {
      "image/png": "[encoded data removed]",
      "text/plain": [
       "<Figure size 1440x360 with 1 Axes>"
      ]
     },
     "metadata": {},
     "output_type": "display_data"
    },
    {
     "data": {
      "image/png": "[encoded data removed]",
      "text/plain": [
       "<Figure size 1440x360 with 1 Axes>"
      ]
     },
     "metadata": {},
     "output_type": "display_data"
    },
    {
     "data": {
      "image/png": "[encoded data removed]",
      "text/plain": [
       "<Figure size 1440x360 with 1 Axes>"
      ]
     },
     "metadata": {},
     "output_type": "display_data"
    },
    {
     "data": {
      "image/png": "[encoded data removed]",
      "text/plain": [
       "<Figure size 1440x360 with 1 Axes>"
      ]
     },
     "metadata": {},
     "output_type": "display_data"
    }
   ],
   "source": [
    "for item in ListofCategories:\n",
    "    (((df_stroke[item]).value_counts())/((dataframe_stroke[item]).value_counts())*100).plot(kind='bar',width=0.1)\n",
    "    plt.title(item)\n",
    "    plt.show()\n",
    "    "
   ]
  },
  {
   "cell_type": "markdown",
   "metadata": {},
   "source": [
    "The above plots give the following insights:\n",
    "1.There is slightly higher percentage of males with stroke than females.\n",
    "2.There is almost 6 times more chance for people with hypertension to have stroke than people without hypertension\n",
    "3.There are more than 4 times chance for people with heart disease to get stroke than people without heart disease.\n",
    "4.There is a higher chance for people in the urban area to get stroke than people living in rural area.\n",
    "5.As per the above plots, married people gets stroke more than never married people, and people who have never worked have a lesser chance of stroke. But, we have already seen that hugher age has a good association with occurrence of stroke. As the variables marital status and whether or not worked are also associated with age, this is to be analysed further."
   ]
  },
  {
   "cell_type": "code",
   "execution_count": 460,
   "metadata": {},
   "outputs": [
    {
     "data": {
      "text/plain": [
       "count    4909.000000\n",
       "mean       42.865374\n",
       "std        22.555115\n",
       "min         0.080000\n",
       "25%        25.000000\n",
       "50%        44.000000\n",
       "75%        60.000000\n",
       "max        82.000000\n",
       "Name: age, dtype: float64"
      ]
     },
     "execution_count": 460,
     "metadata": {},
     "output_type": "execute_result"
    }
   ],
   "source": [
    "dataframe_stroke['age'].describe()\n"
   ]
  },
  {
   "cell_type": "code",
   "execution_count": 461,
   "metadata": {},
   "outputs": [
    {
     "data": {
      "text/plain": [
       "count    209.000000\n",
       "mean      67.712919\n",
       "std       12.402848\n",
       "min       14.000000\n",
       "25%       58.000000\n",
       "50%       70.000000\n",
       "75%       78.000000\n",
       "max       82.000000\n",
       "Name: age, dtype: float64"
      ]
     },
     "execution_count": 461,
     "metadata": {},
     "output_type": "execute_result"
    }
   ],
   "source": [
    "df_stroke['age'].describe()"
   ]
  },
  {
   "cell_type": "code",
   "execution_count": 462,
   "metadata": {},
   "outputs": [
    {
     "data": {
      "text/plain": [
       "0       (60.0, 70.0]\n",
       "2       (70.0, 80.0]\n",
       "3       (40.0, 50.0]\n",
       "4       (70.0, 80.0]\n",
       "5       (80.0, 90.0]\n",
       "            ...     \n",
       "5104    (10.0, 20.0]\n",
       "5106    (80.0, 90.0]\n",
       "5107    (30.0, 40.0]\n",
       "5108    (50.0, 60.0]\n",
       "5109    (40.0, 50.0]\n",
       "Name: age, Length: 4909, dtype: category\n",
       "Categories (9, interval[float64]): [(0.0, 10.0] < (10.0, 20.0] < (20.0, 30.0] < (30.0, 40.0] ... (50.0, 60.0] < (60.0, 70.0] < (70.0, 80.0] < (80.0, 90.0]]"
      ]
     },
     "execution_count": 462,
     "metadata": {},
     "output_type": "execute_result"
    }
   ],
   "source": [
    "pd.cut(dataframe_stroke['age'], bins=np.linspace(0, 90, 10))"
   ]
  },
  {
   "cell_type": "code",
   "execution_count": 463,
   "metadata": {},
   "outputs": [
    {
     "data": {
      "text/plain": [
       "0      (60.0, 70.0]\n",
       "2      (70.0, 80.0]\n",
       "3      (40.0, 50.0]\n",
       "4      (70.0, 80.0]\n",
       "5      (80.0, 90.0]\n",
       "           ...     \n",
       "243    (60.0, 70.0]\n",
       "244    (50.0, 60.0]\n",
       "245    (10.0, 20.0]\n",
       "246    (70.0, 80.0]\n",
       "248    (70.0, 80.0]\n",
       "Name: age, Length: 209, dtype: category\n",
       "Categories (9, interval[float64]): [(0.0, 10.0] < (10.0, 20.0] < (20.0, 30.0] < (30.0, 40.0] ... (50.0, 60.0] < (60.0, 70.0] < (70.0, 80.0] < (80.0, 90.0]]"
      ]
     },
     "execution_count": 463,
     "metadata": {},
     "output_type": "execute_result"
    }
   ],
   "source": [
    "pd.cut(df_stroke['age'],bins=np.linspace(0,90,10))"
   ]
  },
  {
   "cell_type": "code",
   "execution_count": 464,
   "metadata": {},
   "outputs": [
    {
     "data": {
      "text/plain": [
       "(-0.001, 10.0]     0\n",
       "(10.0, 20.0]       1\n",
       "(20.0, 30.0]       0\n",
       "(30.0, 40.0]       5\n",
       "(40.0, 50.0]      15\n",
       "(50.0, 60.0]      42\n",
       "(60.0, 70.0]      42\n",
       "(70.0, 80.0]      81\n",
       "(80.0, 90.0]      23\n",
       "Name: age, dtype: int64"
      ]
     },
     "execution_count": 464,
     "metadata": {},
     "output_type": "execute_result"
    }
   ],
   "source": [
    "df_stroke['age'].value_counts(bins=np.linspace(0,90,10), sort=False)"
   ]
  },
  {
   "cell_type": "code",
   "execution_count": 465,
   "metadata": {},
   "outputs": [
    {
     "data": {
      "text/plain": [
       "(-0.001, 10.0]    493\n",
       "(10.0, 20.0]      507\n",
       "(20.0, 30.0]      536\n",
       "(30.0, 40.0]      648\n",
       "(40.0, 50.0]      716\n",
       "(50.0, 60.0]      792\n",
       "(60.0, 70.0]      564\n",
       "(70.0, 80.0]      538\n",
       "(80.0, 90.0]      115\n",
       "Name: age, dtype: int64"
      ]
     },
     "execution_count": 465,
     "metadata": {},
     "output_type": "execute_result"
    }
   ],
   "source": [
    "dataframe_stroke['age'].value_counts(bins=np.linspace(0,90,10), sort=False)"
   ]
  },
  {
   "cell_type": "code",
   "execution_count": 466,
   "metadata": {},
   "outputs": [
    {
     "data": {
      "text/plain": [
       "(-0.001, 10.0]     0.000000\n",
       "(10.0, 20.0]       0.197239\n",
       "(20.0, 30.0]       0.000000\n",
       "(30.0, 40.0]       0.771605\n",
       "(40.0, 50.0]       2.094972\n",
       "(50.0, 60.0]       5.303030\n",
       "(60.0, 70.0]       7.446809\n",
       "(70.0, 80.0]      15.055762\n",
       "(80.0, 90.0]      20.000000\n",
       "Name: age, dtype: float64"
      ]
     },
     "execution_count": 466,
     "metadata": {},
     "output_type": "execute_result"
    }
   ],
   "source": [
    "100*(df_stroke['age'].value_counts(bins=np.linspace(0,90,10), sort=False))/(dataframe_stroke['age'].value_counts(bins=np.linspace(0,90,10), sort=False))"
   ]
  },
  {
   "cell_type": "code",
   "execution_count": 467,
   "metadata": {},
   "outputs": [
    {
     "data": {
      "image/png": "[encoded data removed]",
      "text/plain": [
       "<Figure size 1440x360 with 1 Axes>"
      ]
     },
     "metadata": {},
     "output_type": "display_data"
    }
   ],
   "source": [
    "(100*(df_stroke['age'].value_counts(bins=np.linspace(0,90,10), sort=False))/(dataframe_stroke['age'].value_counts(bins=np.linspace(0,90,10), sort=False))).plot(kind='bar',width=0.1)\n",
    "plt.title('AGE')\n",
    "plt.show()"
   ]
  },
  {
   "cell_type": "markdown",
   "metadata": {},
   "source": [
    "## The above chart shows the percentage of stroke events in different age groups. It can be seen that the chance of stroke increases with higher age"
   ]
  },
  {
   "cell_type": "code",
   "execution_count": 468,
   "metadata": {},
   "outputs": [
    {
     "data": {
      "text/plain": [
       "count    4909.000000\n",
       "mean       28.893237\n",
       "std         7.854067\n",
       "min        10.300000\n",
       "25%        23.500000\n",
       "50%        28.100000\n",
       "75%        33.100000\n",
       "max        97.600000\n",
       "Name: bmi, dtype: float64"
      ]
     },
     "execution_count": 468,
     "metadata": {},
     "output_type": "execute_result"
    }
   ],
   "source": [
    "dataframe_stroke['bmi'].describe()"
   ]
  },
  {
   "cell_type": "code",
   "execution_count": 469,
   "metadata": {},
   "outputs": [
    {
     "data": {
      "text/plain": [
       "count    209.000000\n",
       "mean      30.471292\n",
       "std        6.329452\n",
       "min       16.900000\n",
       "25%       26.400000\n",
       "50%       29.700000\n",
       "75%       33.700000\n",
       "max       56.600000\n",
       "Name: bmi, dtype: float64"
      ]
     },
     "execution_count": 469,
     "metadata": {},
     "output_type": "execute_result"
    }
   ],
   "source": [
    "df_stroke['bmi'].describe()"
   ]
  },
  {
   "cell_type": "code",
   "execution_count": 470,
   "metadata": {},
   "outputs": [
    {
     "data": {
      "text/plain": [
       "(9.999, 20.0]      3\n",
       "(20.0, 30.0]     110\n",
       "(30.0, 40.0]      78\n",
       "(40.0, 50.0]      17\n",
       "(50.0, 60.0]       1\n",
       "(60.0, 70.0]       0\n",
       "(70.0, 80.0]       0\n",
       "(80.0, 90.0]       0\n",
       "(90.0, 100.0]      0\n",
       "Name: bmi, dtype: int64"
      ]
     },
     "execution_count": 470,
     "metadata": {},
     "output_type": "execute_result"
    }
   ],
   "source": [
    "df_stroke['bmi'].value_counts(bins=np.linspace(10,100,10), sort=False)"
   ]
  },
  {
   "cell_type": "code",
   "execution_count": 471,
   "metadata": {},
   "outputs": [
    {
     "data": {
      "text/plain": [
       "(9.999, 20.0]     537\n",
       "(20.0, 30.0]     2479\n",
       "(30.0, 40.0]     1485\n",
       "(40.0, 50.0]      329\n",
       "(50.0, 60.0]       66\n",
       "(60.0, 70.0]        9\n",
       "(70.0, 80.0]        2\n",
       "(80.0, 90.0]        0\n",
       "(90.0, 100.0]       2\n",
       "Name: bmi, dtype: int64"
      ]
     },
     "execution_count": 471,
     "metadata": {},
     "output_type": "execute_result"
    }
   ],
   "source": [
    "dataframe_stroke['bmi'].value_counts(bins=np.linspace(10,100,10), sort=False) "
   ]
  },
  {
   "cell_type": "code",
   "execution_count": 472,
   "metadata": {},
   "outputs": [
    {
     "data": {
      "image/png": "[encoded data removed]",
      "text/plain": [
       "<Figure size 1440x360 with 1 Axes>"
      ]
     },
     "metadata": {},
     "output_type": "display_data"
    }
   ],
   "source": [
    "(100*(df_stroke['bmi'].value_counts(bins=np.linspace(10,100,10), sort=False))/(dataframe_stroke['bmi'].value_counts(bins=np.linspace(10,100,10), sort=False))).plot(kind='bar',width=0.1)\n",
    "plt.title('BMI')\n",
    "plt.show()"
   ]
  },
  {
   "cell_type": "code",
   "execution_count": 473,
   "metadata": {},
   "outputs": [
    {
     "data": {
      "text/plain": [
       "count    4909.000000\n",
       "mean      105.305150\n",
       "std        44.424341\n",
       "min        55.120000\n",
       "25%        77.070000\n",
       "50%        91.680000\n",
       "75%       113.570000\n",
       "max       271.740000\n",
       "Name: avg_glucose_level, dtype: float64"
      ]
     },
     "execution_count": 473,
     "metadata": {},
     "output_type": "execute_result"
    }
   ],
   "source": [
    "dataframe_stroke['avg_glucose_level'].describe()"
   ]
  },
  {
   "cell_type": "code",
   "execution_count": 474,
   "metadata": {},
   "outputs": [
    {
     "data": {
      "text/plain": [
       "count    209.000000\n",
       "mean     134.571388\n",
       "std       62.462047\n",
       "min       56.110000\n",
       "25%       80.430000\n",
       "50%      106.580000\n",
       "75%      196.920000\n",
       "max      271.740000\n",
       "Name: avg_glucose_level, dtype: float64"
      ]
     },
     "execution_count": 474,
     "metadata": {},
     "output_type": "execute_result"
    }
   ],
   "source": [
    "df_stroke['avg_glucose_level'].describe()"
   ]
  },
  {
   "cell_type": "code",
   "execution_count": 475,
   "metadata": {},
   "outputs": [
    {
     "data": {
      "text/plain": [
       "(49.999, 75.556]      38\n",
       "(75.556, 101.111]     56\n",
       "(101.111, 126.667]    28\n",
       "(126.667, 152.222]    11\n",
       "(152.222, 177.778]     6\n",
       "(177.778, 203.333]    23\n",
       "(203.333, 228.889]    30\n",
       "(228.889, 254.444]    14\n",
       "(254.444, 280.0]       3\n",
       "Name: avg_glucose_level, dtype: int64"
      ]
     },
     "execution_count": 475,
     "metadata": {},
     "output_type": "execute_result"
    }
   ],
   "source": [
    "df_stroke['avg_glucose_level'].value_counts(bins=np.linspace(50,280,10), sort=False)"
   ]
  },
  {
   "cell_type": "code",
   "execution_count": 476,
   "metadata": {},
   "outputs": [
    {
     "data": {
      "text/plain": [
       "(49.999, 75.556]      1123\n",
       "(75.556, 101.111]     1969\n",
       "(101.111, 126.667]     913\n",
       "(126.667, 152.222]     253\n",
       "(152.222, 177.778]     118\n",
       "(177.778, 203.333]     177\n",
       "(203.333, 228.889]     240\n",
       "(228.889, 254.444]     102\n",
       "(254.444, 280.0]        14\n",
       "Name: avg_glucose_level, dtype: int64"
      ]
     },
     "execution_count": 476,
     "metadata": {},
     "output_type": "execute_result"
    }
   ],
   "source": [
    "dataframe_stroke['avg_glucose_level'].value_counts(bins=np.linspace(50,280,10), sort=False)"
   ]
  },
  {
   "cell_type": "code",
   "execution_count": 477,
   "metadata": {},
   "outputs": [
    {
     "data": {
      "image/png": "[encoded data removed]",
      "text/plain": [
       "<Figure size 1440x360 with 1 Axes>"
      ]
     },
     "metadata": {},
     "output_type": "display_data"
    }
   ],
   "source": [
    "(100*(df_stroke['avg_glucose_level'].value_counts(bins=np.linspace(50,280,10), sort=False))/(dataframe_stroke['avg_glucose_level'].value_counts(bins=np.linspace(50,280,10), sort=False))).plot(kind='bar',width=0.1)\n",
    "plt.title('Average Glucose Level')\n",
    "plt.show()"
   ]
  },
  {
   "cell_type": "markdown",
   "metadata": {},
   "source": [
    "## From the above plots, the chance of stroke increases with increase in average glucose level and age. But, chance of stroke doesn't seem to have any association with the bmi value."
   ]
  },
  {
   "cell_type": "code",
   "execution_count": 479,
   "metadata": {},
   "outputs": [
    {
     "ename": "TypeError",
     "evalue": "value_counts() got an unexpected keyword argument 'hue'",
     "output_type": "error",
     "traceback": [
      "\u001b[1;31m---------------------------------------------------------------------------\u001b[0m",
      "\u001b[1;31mTypeError\u001b[0m                                 Traceback (most recent call last)",
      "\u001b[1;32m<ipython-input-479-58c09036f539>\u001b[0m in \u001b[0;36m<module>\u001b[1;34m\u001b[0m\n\u001b[1;32m----> 1\u001b[1;33m \u001b[1;33m(\u001b[0m\u001b[1;36m100\u001b[0m\u001b[1;33m*\u001b[0m\u001b[1;33m(\u001b[0m\u001b[0mdf_stroke\u001b[0m\u001b[1;33m[\u001b[0m\u001b[1;34m'age'\u001b[0m\u001b[1;33m]\u001b[0m\u001b[1;33m.\u001b[0m\u001b[0mvalue_counts\u001b[0m\u001b[1;33m(\u001b[0m\u001b[0mbins\u001b[0m\u001b[1;33m=\u001b[0m\u001b[0mnp\u001b[0m\u001b[1;33m.\u001b[0m\u001b[0mlinspace\u001b[0m\u001b[1;33m(\u001b[0m\u001b[1;36m0\u001b[0m\u001b[1;33m,\u001b[0m\u001b[1;36m90\u001b[0m\u001b[1;33m,\u001b[0m\u001b[1;36m10\u001b[0m\u001b[1;33m)\u001b[0m\u001b[1;33m,\u001b[0m\u001b[0mhue\u001b[0m\u001b[1;33m=\u001b[0m\u001b[1;34m'ever_married'\u001b[0m\u001b[1;33m,\u001b[0m \u001b[0msort\u001b[0m\u001b[1;33m=\u001b[0m\u001b[1;32mFalse\u001b[0m\u001b[1;33m)\u001b[0m\u001b[1;33m)\u001b[0m\u001b[1;33m/\u001b[0m\u001b[1;33m(\u001b[0m\u001b[0mdataframe_stroke\u001b[0m\u001b[1;33m[\u001b[0m\u001b[1;34m'age'\u001b[0m\u001b[1;33m]\u001b[0m\u001b[1;33m.\u001b[0m\u001b[0mvalue_counts\u001b[0m\u001b[1;33m(\u001b[0m\u001b[0mbins\u001b[0m\u001b[1;33m=\u001b[0m\u001b[0mnp\u001b[0m\u001b[1;33m.\u001b[0m\u001b[0mlinspace\u001b[0m\u001b[1;33m(\u001b[0m\u001b[1;36m0\u001b[0m\u001b[1;33m,\u001b[0m\u001b[1;36m90\u001b[0m\u001b[1;33m,\u001b[0m\u001b[1;36m10\u001b[0m\u001b[1;33m)\u001b[0m\u001b[1;33m,\u001b[0m \u001b[0mhue\u001b[0m\u001b[1;33m=\u001b[0m\u001b[1;34m'ever_married'\u001b[0m\u001b[1;33m,\u001b[0m\u001b[0msort\u001b[0m\u001b[1;33m=\u001b[0m\u001b[1;32mFalse\u001b[0m\u001b[1;33m)\u001b[0m\u001b[1;33m)\u001b[0m\u001b[1;33m)\u001b[0m\u001b[1;33m.\u001b[0m\u001b[0mplot\u001b[0m\u001b[1;33m(\u001b[0m\u001b[0mkind\u001b[0m\u001b[1;33m=\u001b[0m\u001b[1;34m'bar'\u001b[0m\u001b[1;33m,\u001b[0m\u001b[0mwidth\u001b[0m\u001b[1;33m=\u001b[0m\u001b[1;36m0.1\u001b[0m\u001b[1;33m)\u001b[0m\u001b[1;33m\u001b[0m\u001b[1;33m\u001b[0m\u001b[0m\n\u001b[0m\u001b[0;32m      2\u001b[0m \u001b[0mplt\u001b[0m\u001b[1;33m.\u001b[0m\u001b[0mtitle\u001b[0m\u001b[1;33m(\u001b[0m\u001b[1;34m'AGE'\u001b[0m\u001b[1;33m)\u001b[0m\u001b[1;33m\u001b[0m\u001b[1;33m\u001b[0m\u001b[0m\n\u001b[0;32m      3\u001b[0m \u001b[0mplt\u001b[0m\u001b[1;33m.\u001b[0m\u001b[0mshow\u001b[0m\u001b[1;33m(\u001b[0m\u001b[1;33m)\u001b[0m\u001b[1;33m\u001b[0m\u001b[1;33m\u001b[0m\u001b[0m\n",
      "\u001b[1;31mTypeError\u001b[0m: value_counts() got an unexpected keyword argument 'hue'"
     ]
    }
   ],
   "source": [
    "(100*(df_stroke['age'].value_counts(bins=np.linspace(0,90,10),hue='ever_married', sort=False))/(dataframe_stroke['age'].value_counts(bins=np.linspace(0,90,10), hue='ever_married',sort=False))).plot(kind='bar',width=0.1)\n",
    "plt.title('AGE')\n",
    "plt.show()"
   ]
  },
  {
   "cell_type": "code",
   "execution_count": 482,
   "metadata": {},
   "outputs": [],
   "source": [
    "df_stroke_age=df_stroke"
   ]
  },
  {
   "cell_type": "code",
   "execution_count": 483,
   "metadata": {},
   "outputs": [
    {
     "name": "stderr",
     "output_type": "stream",
     "text": [
      "<ipython-input-483-afd118dc01e1>:1: SettingWithCopyWarning: \n",
      "A value is trying to be set on a copy of a slice from a DataFrame.\n",
      "Try using .loc[row_indexer,col_indexer] = value instead\n",
      "\n",
      "See the caveats in the documentation: https://pandas.pydata.org/pandas-docs/stable/user_guide/indexing.html#returning-a-view-versus-a-copy\n",
      "  df_stroke_age['age_bins']=pd.cut(df_stroke['age'],bins=np.linspace(0,90,10))\n"
     ]
    }
   ],
   "source": [
    "df_stroke_age['age_bins']=pd.cut(df_stroke['age'],bins=np.linspace(0,90,10))"
   ]
  },
  {
   "cell_type": "code",
   "execution_count": 484,
   "metadata": {},
   "outputs": [
    {
     "data": {
      "text/html": [
       "<div>\n",
       "<style scoped>\n",
       "    .dataframe tbody tr th:only-of-type {\n",
       "        vertical-align: middle;\n",
       "    }\n",
       "\n",
       "    .dataframe tbody tr th {\n",
       "        vertical-align: top;\n",
       "    }\n",
       "\n",
       "    .dataframe thead th {\n",
       "        text-align: right;\n",
       "    }\n",
       "</style>\n",
       "<table border=\"1\" class=\"dataframe\">\n",
       "  <thead>\n",
       "    <tr style=\"text-align: right;\">\n",
       "      <th></th>\n",
       "      <th>gender</th>\n",
       "      <th>age</th>\n",
       "      <th>hypertension</th>\n",
       "      <th>heart_disease</th>\n",
       "      <th>ever_married</th>\n",
       "      <th>work_type</th>\n",
       "      <th>Residence_type</th>\n",
       "      <th>avg_glucose_level</th>\n",
       "      <th>bmi</th>\n",
       "      <th>smoking_status</th>\n",
       "      <th>stroke</th>\n",
       "      <th>age_bins</th>\n",
       "    </tr>\n",
       "  </thead>\n",
       "  <tbody>\n",
       "    <tr>\n",
       "      <th>0</th>\n",
       "      <td>Male</td>\n",
       "      <td>67.0</td>\n",
       "      <td>0</td>\n",
       "      <td>1</td>\n",
       "      <td>Yes</td>\n",
       "      <td>Private</td>\n",
       "      <td>Urban</td>\n",
       "      <td>228.69</td>\n",
       "      <td>36.6</td>\n",
       "      <td>formerly smoked</td>\n",
       "      <td>1</td>\n",
       "      <td>(60.0, 70.0]</td>\n",
       "    </tr>\n",
       "    <tr>\n",
       "      <th>2</th>\n",
       "      <td>Male</td>\n",
       "      <td>80.0</td>\n",
       "      <td>0</td>\n",
       "      <td>1</td>\n",
       "      <td>Yes</td>\n",
       "      <td>Private</td>\n",
       "      <td>Rural</td>\n",
       "      <td>105.92</td>\n",
       "      <td>32.5</td>\n",
       "      <td>never smoked</td>\n",
       "      <td>1</td>\n",
       "      <td>(70.0, 80.0]</td>\n",
       "    </tr>\n",
       "    <tr>\n",
       "      <th>3</th>\n",
       "      <td>Female</td>\n",
       "      <td>49.0</td>\n",
       "      <td>0</td>\n",
       "      <td>0</td>\n",
       "      <td>Yes</td>\n",
       "      <td>Private</td>\n",
       "      <td>Urban</td>\n",
       "      <td>171.23</td>\n",
       "      <td>34.4</td>\n",
       "      <td>smokes</td>\n",
       "      <td>1</td>\n",
       "      <td>(40.0, 50.0]</td>\n",
       "    </tr>\n",
       "    <tr>\n",
       "      <th>4</th>\n",
       "      <td>Female</td>\n",
       "      <td>79.0</td>\n",
       "      <td>1</td>\n",
       "      <td>0</td>\n",
       "      <td>Yes</td>\n",
       "      <td>Self-employed</td>\n",
       "      <td>Rural</td>\n",
       "      <td>174.12</td>\n",
       "      <td>24.0</td>\n",
       "      <td>never smoked</td>\n",
       "      <td>1</td>\n",
       "      <td>(70.0, 80.0]</td>\n",
       "    </tr>\n",
       "    <tr>\n",
       "      <th>5</th>\n",
       "      <td>Male</td>\n",
       "      <td>81.0</td>\n",
       "      <td>0</td>\n",
       "      <td>0</td>\n",
       "      <td>Yes</td>\n",
       "      <td>Private</td>\n",
       "      <td>Urban</td>\n",
       "      <td>186.21</td>\n",
       "      <td>29.0</td>\n",
       "      <td>formerly smoked</td>\n",
       "      <td>1</td>\n",
       "      <td>(80.0, 90.0]</td>\n",
       "    </tr>\n",
       "  </tbody>\n",
       "</table>\n",
       "</div>"
      ],
      "text/plain": [
       "   gender   age  hypertension  heart_disease ever_married      work_type  \\\n",
       "0    Male  67.0             0              1          Yes        Private   \n",
       "2    Male  80.0             0              1          Yes        Private   \n",
       "3  Female  49.0             0              0          Yes        Private   \n",
       "4  Female  79.0             1              0          Yes  Self-employed   \n",
       "5    Male  81.0             0              0          Yes        Private   \n",
       "\n",
       "  Residence_type  avg_glucose_level   bmi   smoking_status  stroke  \\\n",
       "0          Urban             228.69  36.6  formerly smoked       1   \n",
       "2          Rural             105.92  32.5     never smoked       1   \n",
       "3          Urban             171.23  34.4           smokes       1   \n",
       "4          Rural             174.12  24.0     never smoked       1   \n",
       "5          Urban             186.21  29.0  formerly smoked       1   \n",
       "\n",
       "       age_bins  \n",
       "0  (60.0, 70.0]  \n",
       "2  (70.0, 80.0]  \n",
       "3  (40.0, 50.0]  \n",
       "4  (70.0, 80.0]  \n",
       "5  (80.0, 90.0]  "
      ]
     },
     "execution_count": 484,
     "metadata": {},
     "output_type": "execute_result"
    }
   ],
   "source": [
    "df_stroke_age.head()"
   ]
  },
  {
   "cell_type": "code",
   "execution_count": 485,
   "metadata": {},
   "outputs": [],
   "source": [
    "dataframe_stroke_age=dataframe_stroke"
   ]
  },
  {
   "cell_type": "code",
   "execution_count": 486,
   "metadata": {},
   "outputs": [],
   "source": [
    "dataframe_stroke_age['age_bins']=pd.cut(dataframe_stroke['age'],bins=np.linspace(0,90,10))"
   ]
  },
  {
   "cell_type": "code",
   "execution_count": 487,
   "metadata": {},
   "outputs": [
    {
     "data": {
      "text/html": [
       "<div>\n",
       "<style scoped>\n",
       "    .dataframe tbody tr th:only-of-type {\n",
       "        vertical-align: middle;\n",
       "    }\n",
       "\n",
       "    .dataframe tbody tr th {\n",
       "        vertical-align: top;\n",
       "    }\n",
       "\n",
       "    .dataframe thead th {\n",
       "        text-align: right;\n",
       "    }\n",
       "</style>\n",
       "<table border=\"1\" class=\"dataframe\">\n",
       "  <thead>\n",
       "    <tr style=\"text-align: right;\">\n",
       "      <th></th>\n",
       "      <th>gender</th>\n",
       "      <th>age</th>\n",
       "      <th>hypertension</th>\n",
       "      <th>heart_disease</th>\n",
       "      <th>ever_married</th>\n",
       "      <th>work_type</th>\n",
       "      <th>Residence_type</th>\n",
       "      <th>avg_glucose_level</th>\n",
       "      <th>bmi</th>\n",
       "      <th>smoking_status</th>\n",
       "      <th>stroke</th>\n",
       "      <th>age_bins</th>\n",
       "    </tr>\n",
       "  </thead>\n",
       "  <tbody>\n",
       "    <tr>\n",
       "      <th>0</th>\n",
       "      <td>Male</td>\n",
       "      <td>67.0</td>\n",
       "      <td>0</td>\n",
       "      <td>1</td>\n",
       "      <td>Yes</td>\n",
       "      <td>Private</td>\n",
       "      <td>Urban</td>\n",
       "      <td>228.69</td>\n",
       "      <td>36.6</td>\n",
       "      <td>formerly smoked</td>\n",
       "      <td>1</td>\n",
       "      <td>(60.0, 70.0]</td>\n",
       "    </tr>\n",
       "    <tr>\n",
       "      <th>2</th>\n",
       "      <td>Male</td>\n",
       "      <td>80.0</td>\n",
       "      <td>0</td>\n",
       "      <td>1</td>\n",
       "      <td>Yes</td>\n",
       "      <td>Private</td>\n",
       "      <td>Rural</td>\n",
       "      <td>105.92</td>\n",
       "      <td>32.5</td>\n",
       "      <td>never smoked</td>\n",
       "      <td>1</td>\n",
       "      <td>(70.0, 80.0]</td>\n",
       "    </tr>\n",
       "    <tr>\n",
       "      <th>3</th>\n",
       "      <td>Female</td>\n",
       "      <td>49.0</td>\n",
       "      <td>0</td>\n",
       "      <td>0</td>\n",
       "      <td>Yes</td>\n",
       "      <td>Private</td>\n",
       "      <td>Urban</td>\n",
       "      <td>171.23</td>\n",
       "      <td>34.4</td>\n",
       "      <td>smokes</td>\n",
       "      <td>1</td>\n",
       "      <td>(40.0, 50.0]</td>\n",
       "    </tr>\n",
       "    <tr>\n",
       "      <th>4</th>\n",
       "      <td>Female</td>\n",
       "      <td>79.0</td>\n",
       "      <td>1</td>\n",
       "      <td>0</td>\n",
       "      <td>Yes</td>\n",
       "      <td>Self-employed</td>\n",
       "      <td>Rural</td>\n",
       "      <td>174.12</td>\n",
       "      <td>24.0</td>\n",
       "      <td>never smoked</td>\n",
       "      <td>1</td>\n",
       "      <td>(70.0, 80.0]</td>\n",
       "    </tr>\n",
       "    <tr>\n",
       "      <th>5</th>\n",
       "      <td>Male</td>\n",
       "      <td>81.0</td>\n",
       "      <td>0</td>\n",
       "      <td>0</td>\n",
       "      <td>Yes</td>\n",
       "      <td>Private</td>\n",
       "      <td>Urban</td>\n",
       "      <td>186.21</td>\n",
       "      <td>29.0</td>\n",
       "      <td>formerly smoked</td>\n",
       "      <td>1</td>\n",
       "      <td>(80.0, 90.0]</td>\n",
       "    </tr>\n",
       "  </tbody>\n",
       "</table>\n",
       "</div>"
      ],
      "text/plain": [
       "   gender   age  hypertension  heart_disease ever_married      work_type  \\\n",
       "0    Male  67.0             0              1          Yes        Private   \n",
       "2    Male  80.0             0              1          Yes        Private   \n",
       "3  Female  49.0             0              0          Yes        Private   \n",
       "4  Female  79.0             1              0          Yes  Self-employed   \n",
       "5    Male  81.0             0              0          Yes        Private   \n",
       "\n",
       "  Residence_type  avg_glucose_level   bmi   smoking_status  stroke  \\\n",
       "0          Urban             228.69  36.6  formerly smoked       1   \n",
       "2          Rural             105.92  32.5     never smoked       1   \n",
       "3          Urban             171.23  34.4           smokes       1   \n",
       "4          Rural             174.12  24.0     never smoked       1   \n",
       "5          Urban             186.21  29.0  formerly smoked       1   \n",
       "\n",
       "       age_bins  \n",
       "0  (60.0, 70.0]  \n",
       "2  (70.0, 80.0]  \n",
       "3  (40.0, 50.0]  \n",
       "4  (70.0, 80.0]  \n",
       "5  (80.0, 90.0]  "
      ]
     },
     "execution_count": 487,
     "metadata": {},
     "output_type": "execute_result"
    }
   ],
   "source": [
    "dataframe_stroke_age.head()"
   ]
  },
  {
   "cell_type": "code",
   "execution_count": 488,
   "metadata": {},
   "outputs": [
    {
     "data": {
      "text/plain": [
       "<AxesSubplot:xlabel='age_bins', ylabel='count'>"
      ]
     },
     "execution_count": 488,
     "metadata": {},
     "output_type": "execute_result"
    },
    {
     "data": {
      "image/png": "[encoded data removed]",
      "text/plain": [
       "<Figure size 1440x360 with 1 Axes>"
      ]
     },
     "metadata": {},
     "output_type": "display_data"
    }
   ],
   "source": [
    "sns.countplot(data=df_stroke_age,x='age_bins',hue='ever_married')"
   ]
  },
  {
   "cell_type": "code",
   "execution_count": 489,
   "metadata": {},
   "outputs": [
    {
     "data": {
      "text/plain": [
       "<AxesSubplot:xlabel='age_bins', ylabel='count'>"
      ]
     },
     "execution_count": 489,
     "metadata": {},
     "output_type": "execute_result"
    },
    {
     "data": {
      "image/png": "[encoded data removed]",
      "text/plain": [
       "<Figure size 1440x360 with 1 Axes>"
      ]
     },
     "metadata": {},
     "output_type": "display_data"
    }
   ],
   "source": [
    "sns.countplot(data=dataframe_stroke_age,x='age_bins',hue='ever_married')"
   ]
  },
  {
   "cell_type": "markdown",
   "metadata": {},
   "source": [
    "As the age increases, percentage of married people increases. "
   ]
  },
  {
   "cell_type": "code",
   "execution_count": 490,
   "metadata": {},
   "outputs": [
    {
     "data": {
      "text/plain": [
       "age_bins      ever_married\n",
       "(70.0, 80.0]  Yes             72\n",
       "(50.0, 60.0]  Yes             39\n",
       "(60.0, 70.0]  Yes             37\n",
       "(80.0, 90.0]  Yes             21\n",
       "(40.0, 50.0]  Yes             13\n",
       "(70.0, 80.0]  No               9\n",
       "(60.0, 70.0]  No               5\n",
       "(30.0, 40.0]  Yes              4\n",
       "(50.0, 60.0]  No               3\n",
       "(80.0, 90.0]  No               2\n",
       "(40.0, 50.0]  No               2\n",
       "(30.0, 40.0]  No               1\n",
       "(10.0, 20.0]  No               1\n",
       "dtype: int64"
      ]
     },
     "execution_count": 490,
     "metadata": {},
     "output_type": "execute_result"
    }
   ],
   "source": [
    "df_stroke_age.value_counts(['age_bins','ever_married'])"
   ]
  },
  {
   "cell_type": "code",
   "execution_count": 491,
   "metadata": {},
   "outputs": [
    {
     "data": {
      "image/png": "[encoded data removed]",
      "text/plain": [
       "<Figure size 1440x360 with 1 Axes>"
      ]
     },
     "metadata": {},
     "output_type": "display_data"
    }
   ],
   "source": [
    "((df_stroke_age.value_counts(['age_bins','ever_married']))/(dataframe_stroke_age.value_counts(['age_bins','ever_married']))*100).plot(kind='bar',width=0.1,color=['green','blue'])\n",
    "plt.title('Marital Status')\n",
    "plt.show()"
   ]
  },
  {
   "cell_type": "markdown",
   "metadata": {},
   "source": [
    "## From the above plot, marital status does not have any clear relationship with the chance of stroke. In some age groups there are more number of married people with stroke, and in some others there are more number of unmarried people with stroke. The percentage of married people increases with age, and so does the chance of stroke. "
   ]
  },
  {
   "cell_type": "code",
   "execution_count": 492,
   "metadata": {},
   "outputs": [
    {
     "data": {
      "image/png": "[encoded data removed]",
      "text/plain": [
       "<Figure size 1440x360 with 1 Axes>"
      ]
     },
     "metadata": {},
     "output_type": "display_data"
    }
   ],
   "source": [
    "((df_stroke_age.value_counts(['age_bins','work_type']))/(dataframe_stroke_age.value_counts(['age_bins','work_type']))*100).plot(kind='bar',width=0.1,color=['black', 'red', 'green', 'blue', 'cyan'])\n",
    "plt.title('Work Type')\n",
    "plt.show()"
   ]
  },
  {
   "cell_type": "markdown",
   "metadata": {},
   "source": [
    "## When an age wise split is considered, there is not much relationship between the type of work and the chance of stroke."
   ]
  },
  {
   "cell_type": "markdown",
   "metadata": {},
   "source": [
    "# Building models to predict the chance of stroke"
   ]
  },
  {
   "cell_type": "markdown",
   "metadata": {},
   "source": [
    "# Linear Regression with one hot encoding"
   ]
  },
  {
   "cell_type": "code",
   "execution_count": 493,
   "metadata": {},
   "outputs": [],
   "source": [
    "from numpy import array\n",
    "from numpy import argmax\n",
    "from sklearn.preprocessing import LabelEncoder\n",
    "from sklearn.preprocessing import OneHotEncoder\n",
    " "
   ]
  },
  {
   "cell_type": "code",
   "execution_count": 494,
   "metadata": {},
   "outputs": [
    {
     "name": "stdout",
     "output_type": "stream",
     "text": [
      "['Male' 'Male' 'Female' ... 'Female' 'Male' 'Female']\n",
      "[1 1 0 ... 0 1 0]\n",
      "[[0. 1. 0.]\n",
      " [0. 1. 0.]\n",
      " [1. 0. 0.]\n",
      " ...\n",
      " [1. 0. 0.]\n",
      " [0. 1. 0.]\n",
      " [1. 0. 0.]]\n",
      "['Male']\n"
     ]
    }
   ],
   "source": [
    "from numpy import array\n",
    "from numpy import argmax\n",
    "from sklearn.preprocessing import LabelEncoder\n",
    "from sklearn.preprocessing import OneHotEncoder\n",
    "# define example\n",
    "data = dataframe_stroke['gender']\n",
    "values = array(data)\n",
    "print(values)\n",
    "# integer encode\n",
    "label_encoder = LabelEncoder()\n",
    "integer_encoded = label_encoder.fit_transform(values)\n",
    "print(integer_encoded)\n",
    "# binary encode\n",
    "onehot_encoder = OneHotEncoder(sparse=False)\n",
    "integer_encoded = integer_encoded.reshape(len(integer_encoded), 1)\n",
    "onehot_encoded = onehot_encoder.fit_transform(integer_encoded)\n",
    "print(onehot_encoded)\n",
    "# invert first example\n",
    "inverted = label_encoder.inverse_transform([argmax(onehot_encoded[0, :])])\n",
    "print(inverted)"
   ]
  },
  {
   "cell_type": "code",
   "execution_count": 495,
   "metadata": {},
   "outputs": [
    {
     "data": {
      "text/html": [
       "<div>\n",
       "<style scoped>\n",
       "    .dataframe tbody tr th:only-of-type {\n",
       "        vertical-align: middle;\n",
       "    }\n",
       "\n",
       "    .dataframe tbody tr th {\n",
       "        vertical-align: top;\n",
       "    }\n",
       "\n",
       "    .dataframe thead th {\n",
       "        text-align: right;\n",
       "    }\n",
       "</style>\n",
       "<table border=\"1\" class=\"dataframe\">\n",
       "  <thead>\n",
       "    <tr style=\"text-align: right;\">\n",
       "      <th></th>\n",
       "      <th>gender</th>\n",
       "      <th>age</th>\n",
       "      <th>hypertension</th>\n",
       "      <th>heart_disease</th>\n",
       "      <th>ever_married</th>\n",
       "      <th>work_type</th>\n",
       "      <th>Residence_type</th>\n",
       "      <th>avg_glucose_level</th>\n",
       "      <th>bmi</th>\n",
       "      <th>smoking_status</th>\n",
       "      <th>stroke</th>\n",
       "      <th>age_bins</th>\n",
       "    </tr>\n",
       "  </thead>\n",
       "  <tbody>\n",
       "    <tr>\n",
       "      <th>0</th>\n",
       "      <td>1</td>\n",
       "      <td>67.0</td>\n",
       "      <td>0</td>\n",
       "      <td>1</td>\n",
       "      <td>1</td>\n",
       "      <td>2</td>\n",
       "      <td>1</td>\n",
       "      <td>228.69</td>\n",
       "      <td>36.6</td>\n",
       "      <td>1</td>\n",
       "      <td>1</td>\n",
       "      <td>(60.0, 70.0]</td>\n",
       "    </tr>\n",
       "    <tr>\n",
       "      <th>2</th>\n",
       "      <td>1</td>\n",
       "      <td>80.0</td>\n",
       "      <td>0</td>\n",
       "      <td>1</td>\n",
       "      <td>1</td>\n",
       "      <td>2</td>\n",
       "      <td>0</td>\n",
       "      <td>105.92</td>\n",
       "      <td>32.5</td>\n",
       "      <td>2</td>\n",
       "      <td>1</td>\n",
       "      <td>(70.0, 80.0]</td>\n",
       "    </tr>\n",
       "    <tr>\n",
       "      <th>3</th>\n",
       "      <td>0</td>\n",
       "      <td>49.0</td>\n",
       "      <td>0</td>\n",
       "      <td>0</td>\n",
       "      <td>1</td>\n",
       "      <td>2</td>\n",
       "      <td>1</td>\n",
       "      <td>171.23</td>\n",
       "      <td>34.4</td>\n",
       "      <td>3</td>\n",
       "      <td>1</td>\n",
       "      <td>(40.0, 50.0]</td>\n",
       "    </tr>\n",
       "    <tr>\n",
       "      <th>4</th>\n",
       "      <td>0</td>\n",
       "      <td>79.0</td>\n",
       "      <td>1</td>\n",
       "      <td>0</td>\n",
       "      <td>1</td>\n",
       "      <td>3</td>\n",
       "      <td>0</td>\n",
       "      <td>174.12</td>\n",
       "      <td>24.0</td>\n",
       "      <td>2</td>\n",
       "      <td>1</td>\n",
       "      <td>(70.0, 80.0]</td>\n",
       "    </tr>\n",
       "    <tr>\n",
       "      <th>5</th>\n",
       "      <td>1</td>\n",
       "      <td>81.0</td>\n",
       "      <td>0</td>\n",
       "      <td>0</td>\n",
       "      <td>1</td>\n",
       "      <td>2</td>\n",
       "      <td>1</td>\n",
       "      <td>186.21</td>\n",
       "      <td>29.0</td>\n",
       "      <td>1</td>\n",
       "      <td>1</td>\n",
       "      <td>(80.0, 90.0]</td>\n",
       "    </tr>\n",
       "  </tbody>\n",
       "</table>\n",
       "</div>"
      ],
      "text/plain": [
       "   gender   age  hypertension  heart_disease  ever_married  work_type  \\\n",
       "0       1  67.0             0              1             1          2   \n",
       "2       1  80.0             0              1             1          2   \n",
       "3       0  49.0             0              0             1          2   \n",
       "4       0  79.0             1              0             1          3   \n",
       "5       1  81.0             0              0             1          2   \n",
       "\n",
       "   Residence_type  avg_glucose_level   bmi  smoking_status  stroke  \\\n",
       "0               1             228.69  36.6               1       1   \n",
       "2               0             105.92  32.5               2       1   \n",
       "3               1             171.23  34.4               3       1   \n",
       "4               0             174.12  24.0               2       1   \n",
       "5               1             186.21  29.0               1       1   \n",
       "\n",
       "       age_bins  \n",
       "0  (60.0, 70.0]  \n",
       "2  (70.0, 80.0]  \n",
       "3  (40.0, 50.0]  \n",
       "4  (70.0, 80.0]  \n",
       "5  (80.0, 90.0]  "
      ]
     },
     "execution_count": 495,
     "metadata": {},
     "output_type": "execute_result"
    }
   ],
   "source": [
    "from sklearn.preprocessing import LabelEncoder\n",
    "le = LabelEncoder()\n",
    "model_df=dataframe_stroke.copy()\n",
    "model_df['gender'] = le.fit_transform(dataframe_stroke['gender'])\n",
    "model_df['ever_married'] = le.fit_transform(dataframe_stroke['ever_married'])\n",
    "model_df['work_type'] = le.fit_transform(dataframe_stroke['work_type'])\n",
    "model_df['Residence_type'] = le.fit_transform(dataframe_stroke['Residence_type'])\n",
    "model_df['smoking_status'] = le.fit_transform(dataframe_stroke['smoking_status'])\n",
    "\n",
    "model_df.head()"
   ]
  },
  {
   "cell_type": "code",
   "execution_count": 496,
   "metadata": {},
   "outputs": [
    {
     "data": {
      "text/html": [
       "<div>\n",
       "<style scoped>\n",
       "    .dataframe tbody tr th:only-of-type {\n",
       "        vertical-align: middle;\n",
       "    }\n",
       "\n",
       "    .dataframe tbody tr th {\n",
       "        vertical-align: top;\n",
       "    }\n",
       "\n",
       "    .dataframe thead th {\n",
       "        text-align: right;\n",
       "    }\n",
       "</style>\n",
       "<table border=\"1\" class=\"dataframe\">\n",
       "  <thead>\n",
       "    <tr style=\"text-align: right;\">\n",
       "      <th></th>\n",
       "      <th>gender</th>\n",
       "      <th>age</th>\n",
       "      <th>hypertension</th>\n",
       "      <th>heart_disease</th>\n",
       "      <th>ever_married</th>\n",
       "      <th>work_type</th>\n",
       "      <th>Residence_type</th>\n",
       "      <th>avg_glucose_level</th>\n",
       "      <th>bmi</th>\n",
       "      <th>smoking_status</th>\n",
       "      <th>stroke</th>\n",
       "      <th>age_bins</th>\n",
       "    </tr>\n",
       "  </thead>\n",
       "  <tbody>\n",
       "    <tr>\n",
       "      <th>0</th>\n",
       "      <td>Male</td>\n",
       "      <td>67.0</td>\n",
       "      <td>0</td>\n",
       "      <td>1</td>\n",
       "      <td>Yes</td>\n",
       "      <td>Private</td>\n",
       "      <td>Urban</td>\n",
       "      <td>228.69</td>\n",
       "      <td>36.6</td>\n",
       "      <td>formerly smoked</td>\n",
       "      <td>1</td>\n",
       "      <td>(60.0, 70.0]</td>\n",
       "    </tr>\n",
       "    <tr>\n",
       "      <th>2</th>\n",
       "      <td>Male</td>\n",
       "      <td>80.0</td>\n",
       "      <td>0</td>\n",
       "      <td>1</td>\n",
       "      <td>Yes</td>\n",
       "      <td>Private</td>\n",
       "      <td>Rural</td>\n",
       "      <td>105.92</td>\n",
       "      <td>32.5</td>\n",
       "      <td>never smoked</td>\n",
       "      <td>1</td>\n",
       "      <td>(70.0, 80.0]</td>\n",
       "    </tr>\n",
       "    <tr>\n",
       "      <th>3</th>\n",
       "      <td>Female</td>\n",
       "      <td>49.0</td>\n",
       "      <td>0</td>\n",
       "      <td>0</td>\n",
       "      <td>Yes</td>\n",
       "      <td>Private</td>\n",
       "      <td>Urban</td>\n",
       "      <td>171.23</td>\n",
       "      <td>34.4</td>\n",
       "      <td>smokes</td>\n",
       "      <td>1</td>\n",
       "      <td>(40.0, 50.0]</td>\n",
       "    </tr>\n",
       "    <tr>\n",
       "      <th>4</th>\n",
       "      <td>Female</td>\n",
       "      <td>79.0</td>\n",
       "      <td>1</td>\n",
       "      <td>0</td>\n",
       "      <td>Yes</td>\n",
       "      <td>Self-employed</td>\n",
       "      <td>Rural</td>\n",
       "      <td>174.12</td>\n",
       "      <td>24.0</td>\n",
       "      <td>never smoked</td>\n",
       "      <td>1</td>\n",
       "      <td>(70.0, 80.0]</td>\n",
       "    </tr>\n",
       "    <tr>\n",
       "      <th>5</th>\n",
       "      <td>Male</td>\n",
       "      <td>81.0</td>\n",
       "      <td>0</td>\n",
       "      <td>0</td>\n",
       "      <td>Yes</td>\n",
       "      <td>Private</td>\n",
       "      <td>Urban</td>\n",
       "      <td>186.21</td>\n",
       "      <td>29.0</td>\n",
       "      <td>formerly smoked</td>\n",
       "      <td>1</td>\n",
       "      <td>(80.0, 90.0]</td>\n",
       "    </tr>\n",
       "  </tbody>\n",
       "</table>\n",
       "</div>"
      ],
      "text/plain": [
       "   gender   age  hypertension  heart_disease ever_married      work_type  \\\n",
       "0    Male  67.0             0              1          Yes        Private   \n",
       "2    Male  80.0             0              1          Yes        Private   \n",
       "3  Female  49.0             0              0          Yes        Private   \n",
       "4  Female  79.0             1              0          Yes  Self-employed   \n",
       "5    Male  81.0             0              0          Yes        Private   \n",
       "\n",
       "  Residence_type  avg_glucose_level   bmi   smoking_status  stroke  \\\n",
       "0          Urban             228.69  36.6  formerly smoked       1   \n",
       "2          Rural             105.92  32.5     never smoked       1   \n",
       "3          Urban             171.23  34.4           smokes       1   \n",
       "4          Rural             174.12  24.0     never smoked       1   \n",
       "5          Urban             186.21  29.0  formerly smoked       1   \n",
       "\n",
       "       age_bins  \n",
       "0  (60.0, 70.0]  \n",
       "2  (70.0, 80.0]  \n",
       "3  (40.0, 50.0]  \n",
       "4  (70.0, 80.0]  \n",
       "5  (80.0, 90.0]  "
      ]
     },
     "execution_count": 496,
     "metadata": {},
     "output_type": "execute_result"
    }
   ],
   "source": [
    "dataframe_stroke.head()"
   ]
  },
  {
   "cell_type": "code",
   "execution_count": 497,
   "metadata": {},
   "outputs": [
    {
     "name": "stdout",
     "output_type": "stream",
     "text": [
      "                     gender       age  hypertension  heart_disease  \\\n",
      "gender             1.000000 -0.030738      0.021578       0.082712   \n",
      "age               -0.030738  1.000000      0.274425       0.257123   \n",
      "hypertension       0.021578  0.274425      1.000000       0.115991   \n",
      "heart_disease      0.082712  0.257123      0.115991       1.000000   \n",
      "ever_married      -0.037237  0.680782      0.162406       0.111245   \n",
      "work_type          0.058560 -0.366987     -0.052750      -0.030373   \n",
      "Residence_type    -0.005014  0.010948     -0.001074      -0.002362   \n",
      "avg_glucose_level  0.053664  0.235838      0.180543       0.154525   \n",
      "bmi               -0.026678  0.333398      0.167811       0.041357   \n",
      "smoking_status    -0.060004  0.275515      0.110808       0.055236   \n",
      "stroke             0.006757  0.232331      0.142515       0.137938   \n",
      "\n",
      "                   ever_married  work_type  Residence_type  avg_glucose_level  \\\n",
      "gender                -0.037237   0.058560       -0.005014           0.053664   \n",
      "age                    0.680782  -0.366987        0.010948           0.235838   \n",
      "hypertension           0.162406  -0.052750       -0.001074           0.180543   \n",
      "heart_disease          0.111245  -0.030373       -0.002362           0.154525   \n",
      "ever_married           1.000000  -0.357946        0.004989           0.151377   \n",
      "work_type             -0.357946   1.000000       -0.005422          -0.050581   \n",
      "Residence_type         0.004989  -0.005422        1.000000          -0.007617   \n",
      "avg_glucose_level      0.151377  -0.050581       -0.007617           1.000000   \n",
      "bmi                    0.341695  -0.304876       -0.000122           0.175502   \n",
      "smoking_status         0.264642  -0.310911        0.013810           0.066335   \n",
      "stroke                 0.105089  -0.033756        0.006031           0.138936   \n",
      "\n",
      "                        bmi  smoking_status    stroke  \n",
      "gender            -0.026678       -0.060004  0.006757  \n",
      "age                0.333398        0.275515  0.232331  \n",
      "hypertension       0.167811        0.110808  0.142515  \n",
      "heart_disease      0.041357        0.055236  0.137938  \n",
      "ever_married       0.341695        0.264642  0.105089  \n",
      "work_type         -0.304876       -0.310911 -0.033756  \n",
      "Residence_type    -0.000122        0.013810  0.006031  \n",
      "avg_glucose_level  0.175502        0.066335  0.138936  \n",
      "bmi                1.000000        0.224473  0.042374  \n",
      "smoking_status     0.224473        1.000000  0.051558  \n",
      "stroke             0.042374        0.051558  1.000000  \n"
     ]
    }
   ],
   "source": [
    "stroke_data_correlated=model_df.corr()\n",
    "print(stroke_data_correlated)"
   ]
  },
  {
   "cell_type": "code",
   "execution_count": 498,
   "metadata": {},
   "outputs": [
    {
     "data": {
      "image/png": "[encoded data removed]",
      "text/plain": [
       "<Figure size 1440x360 with 2 Axes>"
      ]
     },
     "metadata": {},
     "output_type": "display_data"
    }
   ],
   "source": [
    "sns.heatmap(stroke_data_correlated, annot = True)\n",
    "plt.show()"
   ]
  },
  {
   "cell_type": "code",
   "execution_count": 543,
   "metadata": {},
   "outputs": [],
   "source": [
    "independant_variables=model_df[['gender', 'age', 'hypertension', 'heart_disease', 'ever_married',\n",
    "       'work_type', 'Residence_type', 'avg_glucose_level', 'bmi',\n",
    "       'smoking_status']]"
   ]
  },
  {
   "cell_type": "code",
   "execution_count": 544,
   "metadata": {},
   "outputs": [],
   "source": [
    "dependant_variable=model_df[['stroke']]"
   ]
  },
  {
   "cell_type": "code",
   "execution_count": 545,
   "metadata": {},
   "outputs": [
    {
     "data": {
      "text/html": [
       "<div>\n",
       "<style scoped>\n",
       "    .dataframe tbody tr th:only-of-type {\n",
       "        vertical-align: middle;\n",
       "    }\n",
       "\n",
       "    .dataframe tbody tr th {\n",
       "        vertical-align: top;\n",
       "    }\n",
       "\n",
       "    .dataframe thead th {\n",
       "        text-align: right;\n",
       "    }\n",
       "</style>\n",
       "<table border=\"1\" class=\"dataframe\">\n",
       "  <thead>\n",
       "    <tr style=\"text-align: right;\">\n",
       "      <th></th>\n",
       "      <th>const</th>\n",
       "      <th>gender</th>\n",
       "      <th>age</th>\n",
       "      <th>hypertension</th>\n",
       "      <th>heart_disease</th>\n",
       "      <th>ever_married</th>\n",
       "      <th>work_type</th>\n",
       "      <th>Residence_type</th>\n",
       "      <th>avg_glucose_level</th>\n",
       "      <th>bmi</th>\n",
       "      <th>smoking_status</th>\n",
       "    </tr>\n",
       "  </thead>\n",
       "  <tbody>\n",
       "    <tr>\n",
       "      <th>0</th>\n",
       "      <td>1.0</td>\n",
       "      <td>1</td>\n",
       "      <td>67.0</td>\n",
       "      <td>0</td>\n",
       "      <td>1</td>\n",
       "      <td>1</td>\n",
       "      <td>2</td>\n",
       "      <td>1</td>\n",
       "      <td>228.69</td>\n",
       "      <td>36.6</td>\n",
       "      <td>1</td>\n",
       "    </tr>\n",
       "    <tr>\n",
       "      <th>2</th>\n",
       "      <td>1.0</td>\n",
       "      <td>1</td>\n",
       "      <td>80.0</td>\n",
       "      <td>0</td>\n",
       "      <td>1</td>\n",
       "      <td>1</td>\n",
       "      <td>2</td>\n",
       "      <td>0</td>\n",
       "      <td>105.92</td>\n",
       "      <td>32.5</td>\n",
       "      <td>2</td>\n",
       "    </tr>\n",
       "    <tr>\n",
       "      <th>3</th>\n",
       "      <td>1.0</td>\n",
       "      <td>0</td>\n",
       "      <td>49.0</td>\n",
       "      <td>0</td>\n",
       "      <td>0</td>\n",
       "      <td>1</td>\n",
       "      <td>2</td>\n",
       "      <td>1</td>\n",
       "      <td>171.23</td>\n",
       "      <td>34.4</td>\n",
       "      <td>3</td>\n",
       "    </tr>\n",
       "    <tr>\n",
       "      <th>4</th>\n",
       "      <td>1.0</td>\n",
       "      <td>0</td>\n",
       "      <td>79.0</td>\n",
       "      <td>1</td>\n",
       "      <td>0</td>\n",
       "      <td>1</td>\n",
       "      <td>3</td>\n",
       "      <td>0</td>\n",
       "      <td>174.12</td>\n",
       "      <td>24.0</td>\n",
       "      <td>2</td>\n",
       "    </tr>\n",
       "    <tr>\n",
       "      <th>5</th>\n",
       "      <td>1.0</td>\n",
       "      <td>1</td>\n",
       "      <td>81.0</td>\n",
       "      <td>0</td>\n",
       "      <td>0</td>\n",
       "      <td>1</td>\n",
       "      <td>2</td>\n",
       "      <td>1</td>\n",
       "      <td>186.21</td>\n",
       "      <td>29.0</td>\n",
       "      <td>1</td>\n",
       "    </tr>\n",
       "  </tbody>\n",
       "</table>\n",
       "</div>"
      ],
      "text/plain": [
       "   const  gender   age  hypertension  heart_disease  ever_married  work_type  \\\n",
       "0    1.0       1  67.0             0              1             1          2   \n",
       "2    1.0       1  80.0             0              1             1          2   \n",
       "3    1.0       0  49.0             0              0             1          2   \n",
       "4    1.0       0  79.0             1              0             1          3   \n",
       "5    1.0       1  81.0             0              0             1          2   \n",
       "\n",
       "   Residence_type  avg_glucose_level   bmi  smoking_status  \n",
       "0               1             228.69  36.6               1  \n",
       "2               0             105.92  32.5               2  \n",
       "3               1             171.23  34.4               3  \n",
       "4               0             174.12  24.0               2  \n",
       "5               1             186.21  29.0               1  "
      ]
     },
     "execution_count": 545,
     "metadata": {},
     "output_type": "execute_result"
    }
   ],
   "source": [
    "independant_variables=sm.add_constant(independant_variables)\n",
    "independant_variables.head()"
   ]
  },
  {
   "cell_type": "code",
   "execution_count": 546,
   "metadata": {},
   "outputs": [
    {
     "name": "stdout",
     "output_type": "stream",
     "text": [
      "X-train\n",
      "<class 'pandas.core.frame.DataFrame'>\n",
      "Int64Index: 3289 entries, 3771 to 275\n",
      "Data columns (total 11 columns):\n",
      " #   Column             Non-Null Count  Dtype  \n",
      "---  ------             --------------  -----  \n",
      " 0   const              3289 non-null   float64\n",
      " 1   gender             3289 non-null   int32  \n",
      " 2   age                3289 non-null   float64\n",
      " 3   hypertension       3289 non-null   int64  \n",
      " 4   heart_disease      3289 non-null   int64  \n",
      " 5   ever_married       3289 non-null   int32  \n",
      " 6   work_type          3289 non-null   int32  \n",
      " 7   Residence_type     3289 non-null   int32  \n",
      " 8   avg_glucose_level  3289 non-null   float64\n",
      " 9   bmi                3289 non-null   float64\n",
      " 10  smoking_status     3289 non-null   int32  \n",
      "dtypes: float64(4), int32(5), int64(2)\n",
      "memory usage: 244.1 KB\n",
      "None\n",
      "y_train\n",
      "<class 'pandas.core.frame.DataFrame'>\n",
      "Int64Index: 3289 entries, 3771 to 275\n",
      "Data columns (total 1 columns):\n",
      " #   Column  Non-Null Count  Dtype\n",
      "---  ------  --------------  -----\n",
      " 0   stroke  3289 non-null   int64\n",
      "dtypes: int64(1)\n",
      "memory usage: 51.4 KB\n",
      "None\n",
      "X-test\n",
      "<class 'pandas.core.frame.DataFrame'>\n",
      "Int64Index: 1620 entries, 2648 to 265\n",
      "Data columns (total 11 columns):\n",
      " #   Column             Non-Null Count  Dtype  \n",
      "---  ------             --------------  -----  \n",
      " 0   const              1620 non-null   float64\n",
      " 1   gender             1620 non-null   int32  \n",
      " 2   age                1620 non-null   float64\n",
      " 3   hypertension       1620 non-null   int64  \n",
      " 4   heart_disease      1620 non-null   int64  \n",
      " 5   ever_married       1620 non-null   int32  \n",
      " 6   work_type          1620 non-null   int32  \n",
      " 7   Residence_type     1620 non-null   int32  \n",
      " 8   avg_glucose_level  1620 non-null   float64\n",
      " 9   bmi                1620 non-null   float64\n",
      " 10  smoking_status     1620 non-null   int32  \n",
      "dtypes: float64(4), int32(5), int64(2)\n",
      "memory usage: 120.2 KB\n",
      "None\n",
      "y-test\n",
      "<class 'pandas.core.frame.DataFrame'>\n",
      "Int64Index: 1620 entries, 2648 to 265\n",
      "Data columns (total 1 columns):\n",
      " #   Column  Non-Null Count  Dtype\n",
      "---  ------  --------------  -----\n",
      " 0   stroke  1620 non-null   int64\n",
      "dtypes: int64(1)\n",
      "memory usage: 25.3 KB\n",
      "None\n"
     ]
    }
   ],
   "source": [
    "from sklearn.model_selection import train_test_split\n",
    "X_train, X_test, y_train, y_test = train_test_split(independant_variables, dependant_variable, test_size=0.33, random_state=1)\n",
    "print('X-train')\n",
    "print(X_train.info())\n",
    "print('y_train')\n",
    "print(y_train.info())\n",
    "print('X-test')\n",
    "print(X_test.info())\n",
    "print('y-test')\n",
    "print(y_test.info())"
   ]
  },
  {
   "cell_type": "code",
   "execution_count": 547,
   "metadata": {},
   "outputs": [
    {
     "data": {
      "text/html": [
       "<table class=\"simpletable\">\n",
       "<caption>OLS Regression Results</caption>\n",
       "<tr>\n",
       "  <th>Dep. Variable:</th>         <td>stroke</td>      <th>  R-squared:         </th> <td>   0.074</td>\n",
       "</tr>\n",
       "<tr>\n",
       "  <th>Model:</th>                   <td>OLS</td>       <th>  Adj. R-squared:    </th> <td>   0.071</td>\n",
       "</tr>\n",
       "<tr>\n",
       "  <th>Method:</th>             <td>Least Squares</td>  <th>  F-statistic:       </th> <td>   26.22</td>\n",
       "</tr>\n",
       "<tr>\n",
       "  <th>Date:</th>             <td>Fri, 04 Jun 2021</td> <th>  Prob (F-statistic):</th> <td>1.61e-48</td>\n",
       "</tr>\n",
       "<tr>\n",
       "  <th>Time:</th>                 <td>19:40:36</td>     <th>  Log-Likelihood:    </th> <td>  722.36</td>\n",
       "</tr>\n",
       "<tr>\n",
       "  <th>No. Observations:</th>      <td>  3289</td>      <th>  AIC:               </th> <td>  -1423.</td>\n",
       "</tr>\n",
       "<tr>\n",
       "  <th>Df Residuals:</th>          <td>  3278</td>      <th>  BIC:               </th> <td>  -1356.</td>\n",
       "</tr>\n",
       "<tr>\n",
       "  <th>Df Model:</th>              <td>    10</td>      <th>                     </th>     <td> </td>   \n",
       "</tr>\n",
       "<tr>\n",
       "  <th>Covariance Type:</th>      <td>nonrobust</td>    <th>                     </th>     <td> </td>   \n",
       "</tr>\n",
       "</table>\n",
       "<table class=\"simpletable\">\n",
       "<tr>\n",
       "          <td></td>             <th>coef</th>     <th>std err</th>      <th>t</th>      <th>P>|t|</th>  <th>[0.025</th>    <th>0.975]</th>  \n",
       "</tr>\n",
       "<tr>\n",
       "  <th>const</th>             <td>   -0.0666</td> <td>    0.020</td> <td>   -3.280</td> <td> 0.001</td> <td>   -0.106</td> <td>   -0.027</td>\n",
       "</tr>\n",
       "<tr>\n",
       "  <th>gender</th>            <td>    0.0002</td> <td>    0.007</td> <td>    0.022</td> <td> 0.982</td> <td>   -0.013</td> <td>    0.014</td>\n",
       "</tr>\n",
       "<tr>\n",
       "  <th>age</th>               <td>    0.0021</td> <td>    0.000</td> <td>    9.318</td> <td> 0.000</td> <td>    0.002</td> <td>    0.003</td>\n",
       "</tr>\n",
       "<tr>\n",
       "  <th>hypertension</th>      <td>    0.0346</td> <td>    0.012</td> <td>    2.804</td> <td> 0.005</td> <td>    0.010</td> <td>    0.059</td>\n",
       "</tr>\n",
       "<tr>\n",
       "  <th>heart_disease</th>     <td>    0.0581</td> <td>    0.016</td> <td>    3.545</td> <td> 0.000</td> <td>    0.026</td> <td>    0.090</td>\n",
       "</tr>\n",
       "<tr>\n",
       "  <th>ever_married</th>      <td>   -0.0242</td> <td>    0.010</td> <td>   -2.421</td> <td> 0.016</td> <td>   -0.044</td> <td>   -0.005</td>\n",
       "</tr>\n",
       "<tr>\n",
       "  <th>work_type</th>         <td>    0.0031</td> <td>    0.004</td> <td>    0.874</td> <td> 0.382</td> <td>   -0.004</td> <td>    0.010</td>\n",
       "</tr>\n",
       "<tr>\n",
       "  <th>Residence_type</th>    <td>    0.0071</td> <td>    0.007</td> <td>    1.049</td> <td> 0.294</td> <td>   -0.006</td> <td>    0.020</td>\n",
       "</tr>\n",
       "<tr>\n",
       "  <th>avg_glucose_level</th> <td>    0.0004</td> <td>    8e-05</td> <td>    5.239</td> <td> 0.000</td> <td>    0.000</td> <td>    0.001</td>\n",
       "</tr>\n",
       "<tr>\n",
       "  <th>bmi</th>               <td>   -0.0009</td> <td>    0.000</td> <td>   -1.853</td> <td> 0.064</td> <td>   -0.002</td> <td> 5.32e-05</td>\n",
       "</tr>\n",
       "<tr>\n",
       "  <th>smoking_status</th>    <td>    0.0007</td> <td>    0.003</td> <td>    0.190</td> <td> 0.849</td> <td>   -0.006</td> <td>    0.007</td>\n",
       "</tr>\n",
       "</table>\n",
       "<table class=\"simpletable\">\n",
       "<tr>\n",
       "  <th>Omnibus:</th>       <td>2688.809</td> <th>  Durbin-Watson:     </th> <td>   2.000</td> \n",
       "</tr>\n",
       "<tr>\n",
       "  <th>Prob(Omnibus):</th>  <td> 0.000</td>  <th>  Jarque-Bera (JB):  </th> <td>43919.453</td>\n",
       "</tr>\n",
       "<tr>\n",
       "  <th>Skew:</th>           <td> 4.028</td>  <th>  Prob(JB):          </th> <td>    0.00</td> \n",
       "</tr>\n",
       "<tr>\n",
       "  <th>Kurtosis:</th>       <td>18.987</td>  <th>  Cond. No.          </th> <td>    765.</td> \n",
       "</tr>\n",
       "</table><br/><br/>Notes:<br/>[1] Standard Errors assume that the covariance matrix of the errors is correctly specified."
      ],
      "text/plain": [
       "<class 'statsmodels.iolib.summary.Summary'>\n",
       "\"\"\"\n",
       "                            OLS Regression Results                            \n",
       "==============================================================================\n",
       "Dep. Variable:                 stroke   R-squared:                       0.074\n",
       "Model:                            OLS   Adj. R-squared:                  0.071\n",
       "Method:                 Least Squares   F-statistic:                     26.22\n",
       "Date:                Fri, 04 Jun 2021   Prob (F-statistic):           1.61e-48\n",
       "Time:                        19:40:36   Log-Likelihood:                 722.36\n",
       "No. Observations:                3289   AIC:                            -1423.\n",
       "Df Residuals:                    3278   BIC:                            -1356.\n",
       "Df Model:                          10                                         \n",
       "Covariance Type:            nonrobust                                         \n",
       "=====================================================================================\n",
       "                        coef    std err          t      P>|t|      [0.025      0.975]\n",
       "-------------------------------------------------------------------------------------\n",
       "const                -0.0666      0.020     -3.280      0.001      -0.106      -0.027\n",
       "gender                0.0002      0.007      0.022      0.982      -0.013       0.014\n",
       "age                   0.0021      0.000      9.318      0.000       0.002       0.003\n",
       "hypertension          0.0346      0.012      2.804      0.005       0.010       0.059\n",
       "heart_disease         0.0581      0.016      3.545      0.000       0.026       0.090\n",
       "ever_married         -0.0242      0.010     -2.421      0.016      -0.044      -0.005\n",
       "work_type             0.0031      0.004      0.874      0.382      -0.004       0.010\n",
       "Residence_type        0.0071      0.007      1.049      0.294      -0.006       0.020\n",
       "avg_glucose_level     0.0004      8e-05      5.239      0.000       0.000       0.001\n",
       "bmi                  -0.0009      0.000     -1.853      0.064      -0.002    5.32e-05\n",
       "smoking_status        0.0007      0.003      0.190      0.849      -0.006       0.007\n",
       "==============================================================================\n",
       "Omnibus:                     2688.809   Durbin-Watson:                   2.000\n",
       "Prob(Omnibus):                  0.000   Jarque-Bera (JB):            43919.453\n",
       "Skew:                           4.028   Prob(JB):                         0.00\n",
       "Kurtosis:                      18.987   Cond. No.                         765.\n",
       "==============================================================================\n",
       "\n",
       "Notes:\n",
       "[1] Standard Errors assume that the covariance matrix of the errors is correctly specified.\n",
       "\"\"\""
      ]
     },
     "execution_count": 547,
     "metadata": {},
     "output_type": "execute_result"
    }
   ],
   "source": [
    "regression_model_stroke=sm.OLS(y_train,X_train).fit()\n",
    "regression_model_stroke.summary()"
   ]
  },
  {
   "cell_type": "code",
   "execution_count": 548,
   "metadata": {},
   "outputs": [
    {
     "name": "stdout",
     "output_type": "stream",
     "text": [
      "const               -0.066636\n",
      "ever_married        -0.024214\n",
      "bmi                 -0.000918\n",
      "gender               0.000155\n",
      "avg_glucose_level    0.000419\n",
      "smoking_status       0.000654\n",
      "age                  0.002092\n",
      "work_type            0.003094\n",
      "Residence_type       0.007125\n",
      "hypertension         0.034587\n",
      "heart_disease        0.058083\n",
      "dtype: float64\n"
     ]
    }
   ],
   "source": [
    "parameters=(regression_model_stroke.params).sort_values()\n",
    "print(parameters)"
   ]
  },
  {
   "cell_type": "code",
   "execution_count": 549,
   "metadata": {},
   "outputs": [
    {
     "data": {
      "image/png": "[encoded data removed]",
      "text/plain": [
       "<Figure size 1440x360 with 1 Axes>"
      ]
     },
     "metadata": {},
     "output_type": "display_data"
    }
   ],
   "source": [
    "parameters.plot(kind='bar')\n",
    "plt.show() "
   ]
  },
  {
   "cell_type": "code",
   "execution_count": 550,
   "metadata": {},
   "outputs": [],
   "source": [
    "prediction=regression_model_stroke.predict(X_test)"
   ]
  },
  {
   "cell_type": "code",
   "execution_count": 551,
   "metadata": {},
   "outputs": [],
   "source": [
    "import math"
   ]
  },
  {
   "cell_type": "markdown",
   "metadata": {},
   "source": [
    "### Creating a function to calculate RMSE value"
   ]
  },
  {
   "cell_type": "code",
   "execution_count": 552,
   "metadata": {},
   "outputs": [],
   "source": [
    "def rmse_calc(y_test,y_predict):\n",
    "    residue=y_test.sub(y_predict,axis=0)\n",
    "    residue_square=np.square(residue)\n",
    "    RMSE=math.sqrt(residue_square.mean())\n",
    "    return(RMSE)\n",
    "    "
   ]
  },
  {
   "cell_type": "code",
   "execution_count": 553,
   "metadata": {},
   "outputs": [
    {
     "name": "stdout",
     "output_type": "stream",
     "text": [
      "      stroke\n",
      "2648       0\n",
      "3441       0\n",
      "4935       0\n",
      "1316       0\n",
      "3271       0\n",
      "2648    0.019818\n",
      "3441    0.062170\n",
      "4935   -0.012837\n",
      "1316    0.021577\n",
      "3271   -0.006263\n",
      "dtype: float64\n",
      "        stroke\n",
      "2648 -0.019818\n",
      "3441 -0.062170\n",
      "4935  0.012837\n",
      "1316 -0.021577\n",
      "3271  0.006263\n",
      "        stroke\n",
      "2648  0.000393\n",
      "3441  0.003865\n",
      "4935  0.000165\n",
      "1316  0.000466\n",
      "3271  0.000039\n",
      "stroke    0.037457\n",
      "dtype: float64\n",
      "0.19353885234856139\n",
      "0.19353885234856139\n"
     ]
    }
   ],
   "source": [
    "residue=y_test.sub(prediction,axis=0)\n",
    "residue_square=np.square(residue)\n",
    "print(y_test.head())\n",
    "print(prediction.head())\n",
    "print(residue.head())\n",
    "print(residue_square.head())\n",
    "print(residue_square.mean())\n",
    "RMSE=math.sqrt(residue_square.mean())\n",
    "print(RMSE)\n",
    "print(rmse_calc(y_test,prediction))\n"
   ]
  },
  {
   "cell_type": "markdown",
   "metadata": {},
   "source": [
    "# Linear Regression with one hot encoding using only the variables found influential from the previous analysis"
   ]
  },
  {
   "cell_type": "code",
   "execution_count": 554,
   "metadata": {},
   "outputs": [
    {
     "data": {
      "text/plain": [
       "count    4909.000000\n",
       "mean       28.893237\n",
       "std         7.854067\n",
       "min        10.300000\n",
       "25%        23.500000\n",
       "50%        28.100000\n",
       "75%        33.100000\n",
       "max        97.600000\n",
       "Name: bmi, dtype: float64"
      ]
     },
     "execution_count": 554,
     "metadata": {},
     "output_type": "execute_result"
    }
   ],
   "source": [
    "model_df['bmi'].describe()"
   ]
  },
  {
   "cell_type": "code",
   "execution_count": null,
   "metadata": {},
   "outputs": [],
   "source": []
  },
  {
   "cell_type": "code",
   "execution_count": 555,
   "metadata": {},
   "outputs": [
    {
     "name": "stdout",
     "output_type": "stream",
     "text": [
      "   const  gender   age  hypertension  heart_disease  Residence_type  \\\n",
      "0    1.0       1  67.0             0              1               1   \n",
      "2    1.0       1  80.0             0              1               0   \n",
      "3    1.0       0  49.0             0              0               1   \n",
      "4    1.0       0  79.0             1              0               0   \n",
      "5    1.0       1  81.0             0              0               1   \n",
      "\n",
      "   avg_glucose_level  smoking_status  \n",
      "0             228.69               1  \n",
      "2             105.92               2  \n",
      "3             171.23               3  \n",
      "4             174.12               2  \n",
      "5             186.21               1  \n",
      "                            OLS Regression Results                            \n",
      "==============================================================================\n",
      "Dep. Variable:                 stroke   R-squared:                       0.077\n",
      "Model:                            OLS   Adj. R-squared:                  0.076\n",
      "Method:                 Least Squares   F-statistic:                     41.08\n",
      "Date:                Fri, 04 Jun 2021   Prob (F-statistic):           6.76e-56\n",
      "Time:                        19:43:55   Log-Likelihood:                 775.03\n",
      "No. Observations:                3436   AIC:                            -1534.\n",
      "Df Residuals:                    3428   BIC:                            -1485.\n",
      "Df Model:                           7                                         \n",
      "Covariance Type:            nonrobust                                         \n",
      "=====================================================================================\n",
      "                        coef    std err          t      P>|t|      [0.025      0.975]\n",
      "-------------------------------------------------------------------------------------\n",
      "const                -0.0632      0.011     -5.648      0.000      -0.085      -0.041\n",
      "gender                0.0029      0.007      0.424      0.672      -0.010       0.016\n",
      "age                   0.0015      0.000      9.020      0.000       0.001       0.002\n",
      "hypertension          0.0580      0.012      4.810      0.000       0.034       0.082\n",
      "heart_disease         0.0952      0.016      6.083      0.000       0.065       0.126\n",
      "Residence_type        0.0007      0.007      0.102      0.919      -0.012       0.014\n",
      "avg_glucose_level     0.0003   7.81e-05      3.804      0.000       0.000       0.000\n",
      "smoking_status       -0.0011      0.003     -0.344      0.731      -0.007       0.005\n",
      "==============================================================================\n",
      "Omnibus:                     2810.049   Durbin-Watson:                   2.056\n",
      "Prob(Omnibus):                  0.000   Jarque-Bera (JB):            46454.800\n",
      "Skew:                           4.027   Prob(JB):                         0.00\n",
      "Kurtosis:                      19.112   Cond. No.                         586.\n",
      "==============================================================================\n",
      "\n",
      "Notes:\n",
      "[1] Standard Errors assume that the covariance matrix of the errors is correctly specified.\n",
      "const               -0.063158\n",
      "smoking_status      -0.001104\n",
      "avg_glucose_level    0.000297\n",
      "Residence_type       0.000670\n",
      "age                  0.001491\n",
      "gender               0.002854\n",
      "hypertension         0.057971\n",
      "heart_disease        0.095220\n",
      "dtype: float64\n"
     ]
    },
    {
     "data": {
      "image/png": "[encoded data removed]",
      "text/plain": [
       "<Figure size 1440x360 with 1 Axes>"
      ]
     },
     "metadata": {},
     "output_type": "display_data"
    }
   ],
   "source": [
    "independant_variables=model_df[['gender', 'age', 'hypertension', 'heart_disease',\n",
    "        'Residence_type', 'avg_glucose_level',\n",
    "       'smoking_status']]\n",
    "dependant_variable=model_df[['stroke']]\n",
    "independant_variables=sm.add_constant(independant_variables)\n",
    "X_train, X_test, y_train, y_test = train_test_split(independant_variables, dependant_variable, test_size=0.3, random_state=2)\n",
    "\n",
    "print(independant_variables.head())\n",
    "regression_model_stroke=sm.OLS(y_train,X_train).fit()\n",
    "print(regression_model_stroke.summary())\n",
    "parameters=(regression_model_stroke.params).sort_values()\n",
    "print(parameters)\n",
    "parameters.plot(kind='bar')\n",
    "plt.show()"
   ]
  },
  {
   "cell_type": "code",
   "execution_count": 556,
   "metadata": {},
   "outputs": [],
   "source": [
    "\n",
    "\n",
    "prediction=regression_model_stroke.predict(X_test)"
   ]
  },
  {
   "cell_type": "code",
   "execution_count": 557,
   "metadata": {},
   "outputs": [],
   "source": [
    "import math"
   ]
  },
  {
   "cell_type": "code",
   "execution_count": 559,
   "metadata": {},
   "outputs": [
    {
     "name": "stdout",
     "output_type": "stream",
     "text": [
      "0.19814914032463454\n"
     ]
    }
   ],
   "source": [
    "\n",
    "print(rmse_calc(y_test,prediction))\n"
   ]
  },
  {
   "cell_type": "markdown",
   "metadata": {},
   "source": [
    "# Linear Regression with categorical values replaced with average of stroke rate"
   ]
  },
  {
   "cell_type": "code",
   "execution_count": 560,
   "metadata": {},
   "outputs": [
    {
     "data": {
      "text/plain": [
       "{'gender': {'Female': 4.142216085605799,\n",
       "  'Male': 4.4256588761810045,\n",
       "  'Other': nan},\n",
       " 'hypertension': {0: 3.342305966801256, 1: 13.303769401330378},\n",
       " 'heart_disease': {0: 3.621945992284612, 1: 16.46090534979424},\n",
       " 'ever_married': {'Yes': 5.805243445692884, 'No': 1.348973607038123},\n",
       " 'work_type': {'Govt_job': 4.444444444444445,\n",
       "  'Never_worked': nan,\n",
       "  'Private': 4.517965136961935,\n",
       "  'Self-employed': 6.838709677419355,\n",
       "  'children': 0.14903129657228018},\n",
       " 'Residence_type': {'Urban': 4.377510040160643, 'Rural': 4.133939644481191},\n",
       " 'smoking_status': {'Unknown': 1.9554956169925826,\n",
       "  'formerly smoked': 6.810035842293907,\n",
       "  'never smoked': 4.535637149028077,\n",
       "  'smokes': 5.291723202170964}}"
      ]
     },
     "execution_count": 560,
     "metadata": {},
     "output_type": "execute_result"
    }
   ],
   "source": [
    "model_df_rate=dataframe_stroke.copy()\n",
    "convert_category={}\n",
    "for item in ListofCategories:\n",
    "    #for category in dataframe_stroke[item].unique():\n",
    "        \n",
    "    \n",
    "    res = df_stroke[item].value_counts()* 100 / dataframe_stroke[item].value_counts()\n",
    "    convert_category[item] = res.to_dict()\n",
    "convert_category   "
   ]
  },
  {
   "cell_type": "code",
   "execution_count": 561,
   "metadata": {},
   "outputs": [
    {
     "data": {
      "text/html": [
       "<div>\n",
       "<style scoped>\n",
       "    .dataframe tbody tr th:only-of-type {\n",
       "        vertical-align: middle;\n",
       "    }\n",
       "\n",
       "    .dataframe tbody tr th {\n",
       "        vertical-align: top;\n",
       "    }\n",
       "\n",
       "    .dataframe thead th {\n",
       "        text-align: right;\n",
       "    }\n",
       "</style>\n",
       "<table border=\"1\" class=\"dataframe\">\n",
       "  <thead>\n",
       "    <tr style=\"text-align: right;\">\n",
       "      <th></th>\n",
       "      <th>gender</th>\n",
       "      <th>age</th>\n",
       "      <th>hypertension</th>\n",
       "      <th>heart_disease</th>\n",
       "      <th>ever_married</th>\n",
       "      <th>work_type</th>\n",
       "      <th>Residence_type</th>\n",
       "      <th>avg_glucose_level</th>\n",
       "      <th>bmi</th>\n",
       "      <th>smoking_status</th>\n",
       "      <th>stroke</th>\n",
       "      <th>age_bins</th>\n",
       "    </tr>\n",
       "  </thead>\n",
       "  <tbody>\n",
       "    <tr>\n",
       "      <th>0</th>\n",
       "      <td>4.425659</td>\n",
       "      <td>67.0</td>\n",
       "      <td>3.342306</td>\n",
       "      <td>16.460905</td>\n",
       "      <td>5.805243</td>\n",
       "      <td>4.517965</td>\n",
       "      <td>4.37751</td>\n",
       "      <td>228.69</td>\n",
       "      <td>36.6</td>\n",
       "      <td>6.810036</td>\n",
       "      <td>1</td>\n",
       "      <td>(60.0, 70.0]</td>\n",
       "    </tr>\n",
       "    <tr>\n",
       "      <th>2</th>\n",
       "      <td>4.425659</td>\n",
       "      <td>80.0</td>\n",
       "      <td>3.342306</td>\n",
       "      <td>16.460905</td>\n",
       "      <td>5.805243</td>\n",
       "      <td>4.517965</td>\n",
       "      <td>4.13394</td>\n",
       "      <td>105.92</td>\n",
       "      <td>32.5</td>\n",
       "      <td>4.535637</td>\n",
       "      <td>1</td>\n",
       "      <td>(70.0, 80.0]</td>\n",
       "    </tr>\n",
       "    <tr>\n",
       "      <th>3</th>\n",
       "      <td>4.142216</td>\n",
       "      <td>49.0</td>\n",
       "      <td>3.342306</td>\n",
       "      <td>3.621946</td>\n",
       "      <td>5.805243</td>\n",
       "      <td>4.517965</td>\n",
       "      <td>4.37751</td>\n",
       "      <td>171.23</td>\n",
       "      <td>34.4</td>\n",
       "      <td>5.291723</td>\n",
       "      <td>1</td>\n",
       "      <td>(40.0, 50.0]</td>\n",
       "    </tr>\n",
       "    <tr>\n",
       "      <th>4</th>\n",
       "      <td>4.142216</td>\n",
       "      <td>79.0</td>\n",
       "      <td>13.303769</td>\n",
       "      <td>3.621946</td>\n",
       "      <td>5.805243</td>\n",
       "      <td>6.838710</td>\n",
       "      <td>4.13394</td>\n",
       "      <td>174.12</td>\n",
       "      <td>24.0</td>\n",
       "      <td>4.535637</td>\n",
       "      <td>1</td>\n",
       "      <td>(70.0, 80.0]</td>\n",
       "    </tr>\n",
       "    <tr>\n",
       "      <th>5</th>\n",
       "      <td>4.425659</td>\n",
       "      <td>81.0</td>\n",
       "      <td>3.342306</td>\n",
       "      <td>3.621946</td>\n",
       "      <td>5.805243</td>\n",
       "      <td>4.517965</td>\n",
       "      <td>4.37751</td>\n",
       "      <td>186.21</td>\n",
       "      <td>29.0</td>\n",
       "      <td>6.810036</td>\n",
       "      <td>1</td>\n",
       "      <td>(80.0, 90.0]</td>\n",
       "    </tr>\n",
       "  </tbody>\n",
       "</table>\n",
       "</div>"
      ],
      "text/plain": [
       "     gender   age  hypertension  heart_disease  ever_married  work_type  \\\n",
       "0  4.425659  67.0      3.342306      16.460905      5.805243   4.517965   \n",
       "2  4.425659  80.0      3.342306      16.460905      5.805243   4.517965   \n",
       "3  4.142216  49.0      3.342306       3.621946      5.805243   4.517965   \n",
       "4  4.142216  79.0     13.303769       3.621946      5.805243   6.838710   \n",
       "5  4.425659  81.0      3.342306       3.621946      5.805243   4.517965   \n",
       "\n",
       "   Residence_type  avg_glucose_level   bmi  smoking_status  stroke  \\\n",
       "0         4.37751             228.69  36.6        6.810036       1   \n",
       "2         4.13394             105.92  32.5        4.535637       1   \n",
       "3         4.37751             171.23  34.4        5.291723       1   \n",
       "4         4.13394             174.12  24.0        4.535637       1   \n",
       "5         4.37751             186.21  29.0        6.810036       1   \n",
       "\n",
       "       age_bins  \n",
       "0  (60.0, 70.0]  \n",
       "2  (70.0, 80.0]  \n",
       "3  (40.0, 50.0]  \n",
       "4  (70.0, 80.0]  \n",
       "5  (80.0, 90.0]  "
      ]
     },
     "execution_count": 561,
     "metadata": {},
     "output_type": "execute_result"
    }
   ],
   "source": [
    "model_df_rate = model_df_rate.replace(convert_category)\n",
    "model_df_rate.head()"
   ]
  },
  {
   "cell_type": "code",
   "execution_count": 562,
   "metadata": {},
   "outputs": [
    {
     "name": "stdout",
     "output_type": "stream",
     "text": [
      "<class 'pandas.core.frame.DataFrame'>\n",
      "Int64Index: 4909 entries, 0 to 5109\n",
      "Data columns (total 12 columns):\n",
      " #   Column             Non-Null Count  Dtype   \n",
      "---  ------             --------------  -----   \n",
      " 0   gender             4908 non-null   float64 \n",
      " 1   age                4909 non-null   float64 \n",
      " 2   hypertension       4909 non-null   float64 \n",
      " 3   heart_disease      4909 non-null   float64 \n",
      " 4   ever_married       4909 non-null   float64 \n",
      " 5   work_type          4887 non-null   float64 \n",
      " 6   Residence_type     4909 non-null   float64 \n",
      " 7   avg_glucose_level  4909 non-null   float64 \n",
      " 8   bmi                4909 non-null   float64 \n",
      " 9   smoking_status     4909 non-null   float64 \n",
      " 10  stroke             4909 non-null   int64   \n",
      " 11  age_bins           4909 non-null   category\n",
      "dtypes: category(1), float64(10), int64(1)\n",
      "memory usage: 625.8 KB\n"
     ]
    }
   ],
   "source": [
    "model_df_rate.info()"
   ]
  },
  {
   "cell_type": "code",
   "execution_count": 563,
   "metadata": {},
   "outputs": [],
   "source": [
    "model_df_rate=model_df_rate.dropna()"
   ]
  },
  {
   "cell_type": "code",
   "execution_count": 564,
   "metadata": {},
   "outputs": [
    {
     "name": "stdout",
     "output_type": "stream",
     "text": [
      "<class 'pandas.core.frame.DataFrame'>\n",
      "Int64Index: 4886 entries, 0 to 5109\n",
      "Data columns (total 12 columns):\n",
      " #   Column             Non-Null Count  Dtype   \n",
      "---  ------             --------------  -----   \n",
      " 0   gender             4886 non-null   float64 \n",
      " 1   age                4886 non-null   float64 \n",
      " 2   hypertension       4886 non-null   float64 \n",
      " 3   heart_disease      4886 non-null   float64 \n",
      " 4   ever_married       4886 non-null   float64 \n",
      " 5   work_type          4886 non-null   float64 \n",
      " 6   Residence_type     4886 non-null   float64 \n",
      " 7   avg_glucose_level  4886 non-null   float64 \n",
      " 8   bmi                4886 non-null   float64 \n",
      " 9   smoking_status     4886 non-null   float64 \n",
      " 10  stroke             4886 non-null   int64   \n",
      " 11  age_bins           4886 non-null   category\n",
      "dtypes: category(1), float64(10), int64(1)\n",
      "memory usage: 463.6 KB\n"
     ]
    }
   ],
   "source": [
    "model_df_rate.info()"
   ]
  },
  {
   "cell_type": "code",
   "execution_count": 565,
   "metadata": {},
   "outputs": [
    {
     "name": "stdout",
     "output_type": "stream",
     "text": [
      "                     gender       age  hypertension  heart_disease  \\\n",
      "gender             1.000000 -0.029392      0.022132       0.083348   \n",
      "age               -0.029392  1.000000      0.273632       0.256735   \n",
      "hypertension       0.022132  0.273632      1.000000       0.115691   \n",
      "heart_disease      0.083348  0.256735      0.115691       1.000000   \n",
      "ever_married      -0.035482  0.678463      0.161106       0.110275   \n",
      "work_type         -0.084939  0.667911      0.154244       0.109131   \n",
      "Residence_type    -0.003412  0.012646     -0.000642      -0.002055   \n",
      "avg_glucose_level  0.052887  0.235893      0.180535       0.154534   \n",
      "bmi               -0.025637  0.332859      0.167589       0.040984   \n",
      "smoking_status    -0.017425  0.404947      0.135067       0.095185   \n",
      "stroke             0.007095  0.231950      0.142248       0.137743   \n",
      "\n",
      "                   ever_married  work_type  Residence_type  avg_glucose_level  \\\n",
      "gender                -0.035482  -0.084939       -0.003412           0.052887   \n",
      "age                    0.678463   0.667911        0.012646           0.235893   \n",
      "hypertension           0.161106   0.154244       -0.000642           0.180535   \n",
      "heart_disease          0.110275   0.109131       -0.002055           0.154534   \n",
      "ever_married           1.000000   0.533040        0.006907           0.151161   \n",
      "work_type              0.533040   1.000000        0.007559           0.113994   \n",
      "Residence_type         0.006907   0.007559        1.000000          -0.006931   \n",
      "avg_glucose_level      0.151161   0.113994       -0.006931           1.000000   \n",
      "bmi                    0.341160   0.398600        0.000623           0.175922   \n",
      "smoking_status         0.340610   0.435601        0.012407           0.110327   \n",
      "stroke                 0.104201   0.091372        0.006335           0.138937   \n",
      "\n",
      "                        bmi  smoking_status    stroke  \n",
      "gender            -0.025637       -0.017425  0.007095  \n",
      "age                0.332859        0.404947  0.231950  \n",
      "hypertension       0.167589        0.135067  0.142248  \n",
      "heart_disease      0.040984        0.095185  0.137743  \n",
      "ever_married       0.341160        0.340610  0.104201  \n",
      "work_type          0.398600        0.435601  0.091372  \n",
      "Residence_type     0.000623        0.012407  0.006335  \n",
      "avg_glucose_level  0.175922        0.110327  0.138937  \n",
      "bmi                1.000000        0.255237  0.042039  \n",
      "smoking_status     0.255237        1.000000  0.084223  \n",
      "stroke             0.042039        0.084223  1.000000  \n"
     ]
    },
    {
     "data": {
      "image/png": "[encoded data removed]",
      "text/plain": [
       "<Figure size 1440x360 with 2 Axes>"
      ]
     },
     "metadata": {},
     "output_type": "display_data"
    }
   ],
   "source": [
    "stroke_data_correlated=model_df_rate.corr()\n",
    "print(stroke_data_correlated)\n",
    "sns.heatmap(stroke_data_correlated, annot = True)\n",
    "plt.show()"
   ]
  },
  {
   "cell_type": "code",
   "execution_count": 566,
   "metadata": {},
   "outputs": [
    {
     "name": "stdout",
     "output_type": "stream",
     "text": [
      "   const    gender   age  hypertension  heart_disease  Residence_type  \\\n",
      "0    1.0  4.425659  67.0      3.342306      16.460905         4.37751   \n",
      "2    1.0  4.425659  80.0      3.342306      16.460905         4.13394   \n",
      "3    1.0  4.142216  49.0      3.342306       3.621946         4.37751   \n",
      "4    1.0  4.142216  79.0     13.303769       3.621946         4.13394   \n",
      "5    1.0  4.425659  81.0      3.342306       3.621946         4.37751   \n",
      "\n",
      "   avg_glucose_level  smoking_status   bmi  ever_married  work_type  \n",
      "0             228.69        6.810036  36.6      5.805243   4.517965  \n",
      "2             105.92        4.535637  32.5      5.805243   4.517965  \n",
      "3             171.23        5.291723  34.4      5.805243   4.517965  \n",
      "4             174.12        4.535637  24.0      5.805243   6.838710  \n",
      "5             186.21        6.810036  29.0      5.805243   4.517965  \n",
      "                            OLS Regression Results                            \n",
      "==============================================================================\n",
      "Dep. Variable:                 stroke   R-squared:                       0.079\n",
      "Model:                            OLS   Adj. R-squared:                  0.076\n",
      "Method:                 Least Squares   F-statistic:                     29.27\n",
      "Date:                Fri, 04 Jun 2021   Prob (F-statistic):           1.52e-54\n",
      "Time:                        19:45:38   Log-Likelihood:                 766.89\n",
      "No. Observations:                3420   AIC:                            -1512.\n",
      "Df Residuals:                    3409   BIC:                            -1444.\n",
      "Df Model:                          10                                         \n",
      "Covariance Type:            nonrobust                                         \n",
      "=====================================================================================\n",
      "                        coef    std err          t      P>|t|      [0.025      0.975]\n",
      "-------------------------------------------------------------------------------------\n",
      "const                -0.1567      0.155     -1.010      0.313      -0.461       0.147\n",
      "gender               -0.0050      0.024     -0.208      0.836      -0.052       0.042\n",
      "age                   0.0025      0.000     10.256      0.000       0.002       0.003\n",
      "hypertension          0.0047      0.001      3.875      0.000       0.002       0.007\n",
      "heart_disease         0.0033      0.001      2.747      0.006       0.001       0.006\n",
      "Residence_type        0.0271      0.027      0.994      0.320      -0.026       0.080\n",
      "avg_glucose_level     0.0004   7.85e-05      4.479      0.000       0.000       0.001\n",
      "smoking_status        0.0029      0.002      1.327      0.185      -0.001       0.007\n",
      "bmi                  -0.0007      0.000     -1.449      0.147      -0.002       0.000\n",
      "ever_married         -0.0054      0.002     -2.493      0.013      -0.010      -0.001\n",
      "work_type            -0.0102      0.003     -3.962      0.000      -0.015      -0.005\n",
      "==============================================================================\n",
      "Omnibus:                     2780.827   Durbin-Watson:                   1.993\n",
      "Prob(Omnibus):                  0.000   Jarque-Bera (JB):            45043.246\n",
      "Skew:                           4.002   Prob(JB):                         0.00\n",
      "Kurtosis:                      18.876   Cond. No.                     5.97e+03\n",
      "==============================================================================\n",
      "\n",
      "Notes:\n",
      "[1] Standard Errors assume that the covariance matrix of the errors is correctly specified.\n",
      "[2] The condition number is large, 5.97e+03. This might indicate that there are\n",
      "strong multicollinearity or other numerical problems.\n",
      "const               -0.156665\n",
      "work_type           -0.010248\n",
      "ever_married        -0.005445\n",
      "gender              -0.004999\n",
      "bmi                 -0.000699\n",
      "avg_glucose_level    0.000352\n",
      "age                  0.002536\n",
      "smoking_status       0.002927\n",
      "heart_disease        0.003343\n",
      "hypertension         0.004727\n",
      "Residence_type       0.027055\n",
      "dtype: float64\n"
     ]
    },
    {
     "data": {
      "image/png": "[encoded data removed]",
      "text/plain": [
       "<Figure size 1440x360 with 1 Axes>"
      ]
     },
     "metadata": {},
     "output_type": "display_data"
    }
   ],
   "source": [
    "independant_variables=model_df_rate[['gender', 'age', 'hypertension', 'heart_disease',\n",
    "        'Residence_type', 'avg_glucose_level',\n",
    "       'smoking_status','bmi','ever_married','work_type']]\n",
    "dependant_variable=model_df_rate[['stroke']]\n",
    "independant_variables=sm.add_constant(independant_variables)\n",
    "X_train, X_test, y_train, y_test = train_test_split(independant_variables, dependant_variable, test_size=0.3, random_state=1)\n",
    "\n",
    "print(independant_variables.head())\n",
    "regression_model_stroke=sm.OLS(y_train,X_train).fit()\n",
    "print(regression_model_stroke.summary())\n",
    "parameters=(regression_model_stroke.params).sort_values()\n",
    "print(parameters)\n",
    "parameters.plot(kind='bar')\n",
    "plt.show()"
   ]
  },
  {
   "cell_type": "code",
   "execution_count": 568,
   "metadata": {},
   "outputs": [
    {
     "name": "stdout",
     "output_type": "stream",
     "text": [
      "0.19593624256877992\n"
     ]
    }
   ],
   "source": [
    "prediction=regression_model_stroke.predict(X_test)\n",
    "\n",
    "print(rmse_calc(y_test,prediction))"
   ]
  },
  {
   "cell_type": "markdown",
   "metadata": {},
   "source": [
    "### The linear regression models gave an RMSE value of 0.193,0.216 and 0.196 with One hot encoding(with all the variables and with only the variables found influential) and with categorical values replaced with stroke rates respectively. So the models with all the variables included gave better results in terms of RMSE with both one hot encoding and by replacing the categorical values with stroke rates."
   ]
  },
  {
   "cell_type": "markdown",
   "metadata": {},
   "source": [
    "# Logistic Regression with categorical variables replaced with average stroke rate"
   ]
  },
  {
   "cell_type": "code",
   "execution_count": 569,
   "metadata": {},
   "outputs": [],
   "source": [
    "import statsmodels.api as sm"
   ]
  },
  {
   "cell_type": "code",
   "execution_count": 570,
   "metadata": {},
   "outputs": [
    {
     "name": "stderr",
     "output_type": "stream",
     "text": [
      "C:\\Users\\akm\\anaconda3\\lib\\site-packages\\sklearn\\utils\\validation.py:72: DataConversionWarning: A column-vector y was passed when a 1d array was expected. Please change the shape of y to (n_samples, ), for example using ravel().\n",
      "  return f(**kwargs)\n",
      "C:\\Users\\akm\\anaconda3\\lib\\site-packages\\sklearn\\linear_model\\_logistic.py:762: ConvergenceWarning: lbfgs failed to converge (status=1):\n",
      "STOP: TOTAL NO. of ITERATIONS REACHED LIMIT.\n",
      "\n",
      "Increase the number of iterations (max_iter) or scale the data as shown in:\n",
      "    https://scikit-learn.org/stable/modules/preprocessing.html\n",
      "Please also refer to the documentation for alternative solver options:\n",
      "    https://scikit-learn.org/stable/modules/linear_model.html#logistic-regression\n",
      "  n_iter_i = _check_optimize_result(\n"
     ]
    },
    {
     "data": {
      "text/plain": [
       "LogisticRegression()"
      ]
     },
     "execution_count": 570,
     "metadata": {},
     "output_type": "execute_result"
    }
   ],
   "source": [
    "from sklearn.linear_model import LogisticRegression\n",
    "model=LogisticRegression()\n",
    "model.fit(X_train,y_train)"
   ]
  },
  {
   "cell_type": "code",
   "execution_count": 571,
   "metadata": {},
   "outputs": [
    {
     "name": "stdout",
     "output_type": "stream",
     "text": [
      "[[1402    0]\n",
      " [  64    0]]\n",
      "              precision    recall  f1-score   support\n",
      "\n",
      "           0       0.96      1.00      0.98      1402\n",
      "           1       0.00      0.00      0.00        64\n",
      "\n",
      "    accuracy                           0.96      1466\n",
      "   macro avg       0.48      0.50      0.49      1466\n",
      "weighted avg       0.91      0.96      0.94      1466\n",
      "\n"
     ]
    },
    {
     "name": "stderr",
     "output_type": "stream",
     "text": [
      "C:\\Users\\akm\\anaconda3\\lib\\site-packages\\sklearn\\metrics\\_classification.py:1221: UndefinedMetricWarning: Precision and F-score are ill-defined and being set to 0.0 in labels with no predicted samples. Use `zero_division` parameter to control this behavior.\n",
      "  _warn_prf(average, modifier, msg_start, len(result))\n"
     ]
    }
   ],
   "source": [
    "from sklearn.metrics import confusion_matrix, accuracy_score, classification_report\n",
    "\n",
    "y_pred=model.predict(X_test)\n",
    "arg_test = {'y_true':y_test, 'y_pred':y_pred}\n",
    "print(confusion_matrix(**arg_test))\n",
    "print(classification_report(**arg_test))"
   ]
  },
  {
   "cell_type": "code",
   "execution_count": 572,
   "metadata": {},
   "outputs": [
    {
     "data": {
      "text/plain": [
       "<bound method DataFrame.info of       stroke\n",
       "3920       0\n",
       "1317       0\n",
       "3242       0\n",
       "857        0\n",
       "3494       0\n",
       "...      ...\n",
       "792        0\n",
       "2797       0\n",
       "1711       0\n",
       "3202       0\n",
       "3514       0\n",
       "\n",
       "[1466 rows x 1 columns]>"
      ]
     },
     "execution_count": 572,
     "metadata": {},
     "output_type": "execute_result"
    }
   ],
   "source": [
    "y_test.info"
   ]
  },
  {
   "cell_type": "code",
   "execution_count": 573,
   "metadata": {},
   "outputs": [
    {
     "name": "stdout",
     "output_type": "stream",
     "text": [
      "0.9563\n"
     ]
    }
   ],
   "source": [
    "print(accuracy_score(y_test, model.predict(X_test)).round(4))"
   ]
  },
  {
   "cell_type": "code",
   "execution_count": 574,
   "metadata": {},
   "outputs": [
    {
     "data": {
      "text/html": [
       "<div>\n",
       "<style scoped>\n",
       "    .dataframe tbody tr th:only-of-type {\n",
       "        vertical-align: middle;\n",
       "    }\n",
       "\n",
       "    .dataframe tbody tr th {\n",
       "        vertical-align: top;\n",
       "    }\n",
       "\n",
       "    .dataframe thead th {\n",
       "        text-align: right;\n",
       "    }\n",
       "</style>\n",
       "<table border=\"1\" class=\"dataframe\">\n",
       "  <thead>\n",
       "    <tr style=\"text-align: right;\">\n",
       "      <th></th>\n",
       "      <th>stroke</th>\n",
       "    </tr>\n",
       "  </thead>\n",
       "  <tbody>\n",
       "    <tr>\n",
       "      <th>count</th>\n",
       "      <td>1466.000000</td>\n",
       "    </tr>\n",
       "    <tr>\n",
       "      <th>mean</th>\n",
       "      <td>0.043656</td>\n",
       "    </tr>\n",
       "    <tr>\n",
       "      <th>std</th>\n",
       "      <td>0.204399</td>\n",
       "    </tr>\n",
       "    <tr>\n",
       "      <th>min</th>\n",
       "      <td>0.000000</td>\n",
       "    </tr>\n",
       "    <tr>\n",
       "      <th>25%</th>\n",
       "      <td>0.000000</td>\n",
       "    </tr>\n",
       "    <tr>\n",
       "      <th>50%</th>\n",
       "      <td>0.000000</td>\n",
       "    </tr>\n",
       "    <tr>\n",
       "      <th>75%</th>\n",
       "      <td>0.000000</td>\n",
       "    </tr>\n",
       "    <tr>\n",
       "      <th>max</th>\n",
       "      <td>1.000000</td>\n",
       "    </tr>\n",
       "  </tbody>\n",
       "</table>\n",
       "</div>"
      ],
      "text/plain": [
       "            stroke\n",
       "count  1466.000000\n",
       "mean      0.043656\n",
       "std       0.204399\n",
       "min       0.000000\n",
       "25%       0.000000\n",
       "50%       0.000000\n",
       "75%       0.000000\n",
       "max       1.000000"
      ]
     },
     "execution_count": 574,
     "metadata": {},
     "output_type": "execute_result"
    }
   ],
   "source": [
    "y_test.describe()"
   ]
  },
  {
   "cell_type": "code",
   "execution_count": 578,
   "metadata": {},
   "outputs": [
    {
     "name": "stdout",
     "output_type": "stream",
     "text": [
      "0.20894067906222807\n"
     ]
    }
   ],
   "source": [
    "\n",
    "print(rmse_calc(y_test,y_pred))\n"
   ]
  },
  {
   "cell_type": "markdown",
   "metadata": {},
   "source": [
    "# Logistic regression with one hot encoding"
   ]
  },
  {
   "cell_type": "code",
   "execution_count": 579,
   "metadata": {},
   "outputs": [],
   "source": [
    "independant_variables=model_df[['gender', 'age', 'hypertension', 'heart_disease', 'ever_married',\n",
    "       'work_type', 'Residence_type', 'avg_glucose_level', 'bmi',\n",
    "       'smoking_status']]\n",
    "dependant_variable=model_df[['stroke']]"
   ]
  },
  {
   "cell_type": "code",
   "execution_count": 580,
   "metadata": {},
   "outputs": [
    {
     "name": "stdout",
     "output_type": "stream",
     "text": [
      "   const  gender   age  hypertension  heart_disease  Residence_type  \\\n",
      "0    1.0       1  67.0             0              1               1   \n",
      "2    1.0       1  80.0             0              1               0   \n",
      "3    1.0       0  49.0             0              0               1   \n",
      "4    1.0       0  79.0             1              0               0   \n",
      "5    1.0       1  81.0             0              0               1   \n",
      "\n",
      "   avg_glucose_level  smoking_status   bmi  ever_married  work_type  \n",
      "0             228.69               1  36.6             1          2  \n",
      "2             105.92               2  32.5             1          2  \n",
      "3             171.23               3  34.4             1          2  \n",
      "4             174.12               2  24.0             1          3  \n",
      "5             186.21               1  29.0             1          2  \n"
     ]
    }
   ],
   "source": [
    "independant_variables=model_df[['gender', 'age', 'hypertension', 'heart_disease',\n",
    "        'Residence_type', 'avg_glucose_level',\n",
    "       'smoking_status','bmi','ever_married','work_type']]\n",
    "dependant_variable=model_df[['stroke']]\n",
    "independant_variables=sm.add_constant(independant_variables)\n",
    "X_train, X_test, y_train, y_test = train_test_split(independant_variables, dependant_variable, test_size=0.3, random_state=2)\n",
    "\n",
    "print(independant_variables.head())"
   ]
  },
  {
   "cell_type": "code",
   "execution_count": 581,
   "metadata": {},
   "outputs": [
    {
     "name": "stderr",
     "output_type": "stream",
     "text": [
      "C:\\Users\\akm\\anaconda3\\lib\\site-packages\\sklearn\\utils\\validation.py:72: DataConversionWarning: A column-vector y was passed when a 1d array was expected. Please change the shape of y to (n_samples, ), for example using ravel().\n",
      "  return f(**kwargs)\n",
      "C:\\Users\\akm\\anaconda3\\lib\\site-packages\\sklearn\\linear_model\\_logistic.py:762: ConvergenceWarning: lbfgs failed to converge (status=1):\n",
      "STOP: TOTAL NO. of ITERATIONS REACHED LIMIT.\n",
      "\n",
      "Increase the number of iterations (max_iter) or scale the data as shown in:\n",
      "    https://scikit-learn.org/stable/modules/preprocessing.html\n",
      "Please also refer to the documentation for alternative solver options:\n",
      "    https://scikit-learn.org/stable/modules/linear_model.html#logistic-regression\n",
      "  n_iter_i = _check_optimize_result(\n"
     ]
    },
    {
     "data": {
      "text/plain": [
       "LogisticRegression()"
      ]
     },
     "execution_count": 581,
     "metadata": {},
     "output_type": "execute_result"
    }
   ],
   "source": [
    "model=LogisticRegression()\n",
    "model.fit(X_train,y_train)"
   ]
  },
  {
   "cell_type": "code",
   "execution_count": 582,
   "metadata": {},
   "outputs": [
    {
     "name": "stdout",
     "output_type": "stream",
     "text": [
      "[[1408    1]\n",
      " [  64    0]]\n",
      "              precision    recall  f1-score   support\n",
      "\n",
      "           0       0.96      1.00      0.98      1409\n",
      "           1       0.00      0.00      0.00        64\n",
      "\n",
      "    accuracy                           0.96      1473\n",
      "   macro avg       0.48      0.50      0.49      1473\n",
      "weighted avg       0.91      0.96      0.93      1473\n",
      "\n"
     ]
    }
   ],
   "source": [
    "y_pred=model.predict(X_test)\n",
    "arg_test = {'y_true':y_test, 'y_pred':y_pred}\n",
    "print(confusion_matrix(**arg_test))\n",
    "print(classification_report(**arg_test))"
   ]
  },
  {
   "cell_type": "code",
   "execution_count": 583,
   "metadata": {},
   "outputs": [
    {
     "name": "stdout",
     "output_type": "stream",
     "text": [
      "0.9559\n"
     ]
    }
   ],
   "source": [
    "print(accuracy_score(y_test, model.predict(X_test)).round(4))"
   ]
  },
  {
   "cell_type": "code",
   "execution_count": 585,
   "metadata": {},
   "outputs": [
    {
     "name": "stdout",
     "output_type": "stream",
     "text": [
      "0.21006577704537094\n"
     ]
    }
   ],
   "source": [
    "\n",
    "print(rmse_calc(y_test,y_pred))"
   ]
  },
  {
   "cell_type": "markdown",
   "metadata": {},
   "source": [
    "### The logistic regression models gave an RMSE value of 0.210 and 0.208 with One hot encoding and with categorical values replaced with stroke rates respectively. The logistic regression models have shown slightly higher RMSE values compared to the linear regression models."
   ]
  },
  {
   "cell_type": "code",
   "execution_count": null,
   "metadata": {},
   "outputs": [],
   "source": []
  }
 ],
 "metadata": {
  "kernelspec": {
   "display_name": "Python 3",
   "language": "python",
   "name": "python3"
  },
  "language_info": {
   "codemirror_mode": {
    "name": "ipython",
    "version": 3
   },
   "file_extension": ".py",
   "mimetype": "text/x-python",
   "name": "python",
   "nbconvert_exporter": "python",
   "pygments_lexer": "ipython3",
   "version": "3.8.5"
  }
 },
 "nbformat": 4,
 "nbformat_minor": 4
}
